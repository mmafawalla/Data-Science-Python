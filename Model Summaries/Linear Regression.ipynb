{
 "cells": [
  {
   "cell_type": "markdown",
   "source": [
    "# Linear Regression"
   ],
   "metadata": {
    "collapsed": false
   }
  },
  {
   "cell_type": "code",
   "execution_count": 23,
   "outputs": [],
   "source": [
    "import pandas as pd\n",
    "import numpy as np"
   ],
   "metadata": {
    "collapsed": false
   }
  },
  {
   "cell_type": "code",
   "execution_count": 8,
   "outputs": [
    {
     "data": {
      "text/plain": "     sqft_living    price\n0           3.25   95.100\n1           2.15   65.000\n2           0.76   36.990\n3           1.97   55.000\n4           3.65  238.400\n..           ...      ...\n336         2.04   61.500\n337         6.49  200.000\n338         2.02  122.500\n339         4.27  135.692\n340         2.18  141.000\n\n[341 rows x 2 columns]",
      "text/html": "<div>\n<style scoped>\n    .dataframe tbody tr th:only-of-type {\n        vertical-align: middle;\n    }\n\n    .dataframe tbody tr th {\n        vertical-align: top;\n    }\n\n    .dataframe thead th {\n        text-align: right;\n    }\n</style>\n<table border=\"1\" class=\"dataframe\">\n  <thead>\n    <tr style=\"text-align: right;\">\n      <th></th>\n      <th>sqft_living</th>\n      <th>price</th>\n    </tr>\n  </thead>\n  <tbody>\n    <tr>\n      <th>0</th>\n      <td>3.25</td>\n      <td>95.100</td>\n    </tr>\n    <tr>\n      <th>1</th>\n      <td>2.15</td>\n      <td>65.000</td>\n    </tr>\n    <tr>\n      <th>2</th>\n      <td>0.76</td>\n      <td>36.990</td>\n    </tr>\n    <tr>\n      <th>3</th>\n      <td>1.97</td>\n      <td>55.000</td>\n    </tr>\n    <tr>\n      <th>4</th>\n      <td>3.65</td>\n      <td>238.400</td>\n    </tr>\n    <tr>\n      <th>...</th>\n      <td>...</td>\n      <td>...</td>\n    </tr>\n    <tr>\n      <th>336</th>\n      <td>2.04</td>\n      <td>61.500</td>\n    </tr>\n    <tr>\n      <th>337</th>\n      <td>6.49</td>\n      <td>200.000</td>\n    </tr>\n    <tr>\n      <th>338</th>\n      <td>2.02</td>\n      <td>122.500</td>\n    </tr>\n    <tr>\n      <th>339</th>\n      <td>4.27</td>\n      <td>135.692</td>\n    </tr>\n    <tr>\n      <th>340</th>\n      <td>2.18</td>\n      <td>141.000</td>\n    </tr>\n  </tbody>\n</table>\n<p>341 rows × 2 columns</p>\n</div>"
     },
     "execution_count": 8,
     "metadata": {},
     "output_type": "execute_result"
    }
   ],
   "source": [
    "housing = pd.read_csv('../Data/kc_house.csv')\n",
    "housing = housing[['sqft_living', 'price']]\n",
    "housing"
   ],
   "metadata": {
    "collapsed": false
   }
  },
  {
   "cell_type": "code",
   "execution_count": 19,
   "outputs": [],
   "source": [
    "X = housing['sqft_living']\n",
    "X_reshaped = X.values.reshape(-1,1)\n",
    "y = housing['price']"
   ],
   "metadata": {
    "collapsed": false
   }
  },
  {
   "cell_type": "code",
   "execution_count": 31,
   "outputs": [],
   "source": [
    "from sklearn.linear_model import LinearRegression\n",
    "# X.values.reshape(-1,1) converts from a series to a dataframe which is required as the argument for X\n",
    "linear_regression = LinearRegression().fit(X=X_reshaped, y=housing['price'])\n",
    "y_pred = linear_regression.predict(X_reshaped)"
   ],
   "metadata": {
    "collapsed": false
   }
  },
  {
   "cell_type": "code",
   "execution_count": 32,
   "outputs": [
    {
     "name": "stdout",
     "output_type": "stream",
     "text": [
      "Coefficient:  [50.95244905]\n",
      "Intercept:  -33.982222424899746\n"
     ]
    }
   ],
   "source": [
    "print('Coefficient: ', linear_regression.coef_)\n",
    "print('Intercept: ', linear_regression.intercept_)"
   ],
   "metadata": {
    "collapsed": false
   }
  },
  {
   "cell_type": "code",
   "execution_count": 33,
   "outputs": [
    {
     "data": {
      "text/plain": "0.6210689765309945"
     },
     "execution_count": 33,
     "metadata": {},
     "output_type": "execute_result"
    }
   ],
   "source": [
    "linear_regression.score(X_reshaped, y)"
   ],
   "metadata": {
    "collapsed": false
   }
  },
  {
   "cell_type": "markdown",
   "source": [
    "# Mean Squared Error"
   ],
   "metadata": {
    "collapsed": false
   }
  },
  {
   "cell_type": "markdown",
   "source": [
    "<img src=\"../Images/mean_square_error.jpeg\" alt=\"Alternative text\" height=\"300\"/>"
   ],
   "metadata": {
    "collapsed": false
   }
  },
  {
   "cell_type": "markdown",
   "source": [
    "Mean Squred Error is also known as the <b>cost function</b>"
   ],
   "metadata": {
    "collapsed": false
   }
  },
  {
   "cell_type": "code",
   "execution_count": 36,
   "outputs": [
    {
     "name": "stdout",
     "output_type": "stream",
     "text": [
      "Mean Squared Error: 2419.0341113521495\n"
     ]
    }
   ],
   "source": [
    "from sklearn import metrics\n",
    "print('Mean Squared Error:', metrics.mean_squared_error(y, y_pred))"
   ],
   "metadata": {
    "collapsed": false
   }
  },
  {
   "cell_type": "markdown",
   "source": [
    "# Residual Sum of Squares(RSS)"
   ],
   "metadata": {
    "collapsed": false
   }
  },
  {
   "cell_type": "code",
   "execution_count": 30,
   "outputs": [
    {
     "name": "stdout",
     "output_type": "stream",
     "text": [
      "Residual Sum of Squares(RSS): 824890.631971083\n"
     ]
    }
   ],
   "source": [
    "y_pred = linear_regression.predict(X_reshaped)\n",
    "df = pd.DataFrame({'Actual': y, 'Predicted':y_pred})\n",
    "print('Residual Sum of Squares(RSS): '+ str(np.sum(np.square(df['Predicted'] - df['Actual']))))"
   ],
   "metadata": {
    "collapsed": false
   }
  },
  {
   "cell_type": "markdown",
   "source": [
    "# Stats Model Library"
   ],
   "metadata": {
    "collapsed": false
   }
  },
  {
   "cell_type": "code",
   "execution_count": 28,
   "outputs": [
    {
     "data": {
      "text/plain": "<class 'statsmodels.iolib.summary.Summary'>\n\"\"\"\n                            OLS Regression Results                            \n==============================================================================\nDep. Variable:                  price   R-squared:                       0.621\nModel:                            OLS   Adj. R-squared:                  0.620\nMethod:                 Least Squares   F-statistic:                     555.6\nDate:                Fri, 03 Feb 2023   Prob (F-statistic):           2.02e-73\nTime:                        16:26:02   Log-Likelihood:                -1812.2\nNo. Observations:                 341   AIC:                             3628.\nDf Residuals:                     339   BIC:                             3636.\nDf Model:                           1                                         \nCovariance Type:            nonrobust                                         \n===============================================================================\n                  coef    std err          t      P>|t|      [0.025      0.975]\n-------------------------------------------------------------------------------\nconst         -33.9822      6.956     -4.885      0.000     -47.664     -20.300\nsqft_living    50.9524      2.162     23.572      0.000      46.701      55.204\n==============================================================================\nOmnibus:                       37.557   Durbin-Watson:                   2.062\nProb(Omnibus):                  0.000   Jarque-Bera (JB):               59.106\nSkew:                           0.695   Prob(JB):                     1.46e-13\nKurtosis:                       4.492   Cond. No.                         9.08\n==============================================================================\n\nNotes:\n[1] Standard Errors assume that the covariance matrix of the errors is correctly specified.\n\"\"\"",
      "text/html": "<table class=\"simpletable\">\n<caption>OLS Regression Results</caption>\n<tr>\n  <th>Dep. Variable:</th>          <td>price</td>      <th>  R-squared:         </th> <td>   0.621</td>\n</tr>\n<tr>\n  <th>Model:</th>                   <td>OLS</td>       <th>  Adj. R-squared:    </th> <td>   0.620</td>\n</tr>\n<tr>\n  <th>Method:</th>             <td>Least Squares</td>  <th>  F-statistic:       </th> <td>   555.6</td>\n</tr>\n<tr>\n  <th>Date:</th>             <td>Fri, 03 Feb 2023</td> <th>  Prob (F-statistic):</th> <td>2.02e-73</td>\n</tr>\n<tr>\n  <th>Time:</th>                 <td>16:26:02</td>     <th>  Log-Likelihood:    </th> <td> -1812.2</td>\n</tr>\n<tr>\n  <th>No. Observations:</th>      <td>   341</td>      <th>  AIC:               </th> <td>   3628.</td>\n</tr>\n<tr>\n  <th>Df Residuals:</th>          <td>   339</td>      <th>  BIC:               </th> <td>   3636.</td>\n</tr>\n<tr>\n  <th>Df Model:</th>              <td>     1</td>      <th>                     </th>     <td> </td>   \n</tr>\n<tr>\n  <th>Covariance Type:</th>      <td>nonrobust</td>    <th>                     </th>     <td> </td>   \n</tr>\n</table>\n<table class=\"simpletable\">\n<tr>\n       <td></td>          <th>coef</th>     <th>std err</th>      <th>t</th>      <th>P>|t|</th>  <th>[0.025</th>    <th>0.975]</th>  \n</tr>\n<tr>\n  <th>const</th>       <td>  -33.9822</td> <td>    6.956</td> <td>   -4.885</td> <td> 0.000</td> <td>  -47.664</td> <td>  -20.300</td>\n</tr>\n<tr>\n  <th>sqft_living</th> <td>   50.9524</td> <td>    2.162</td> <td>   23.572</td> <td> 0.000</td> <td>   46.701</td> <td>   55.204</td>\n</tr>\n</table>\n<table class=\"simpletable\">\n<tr>\n  <th>Omnibus:</th>       <td>37.557</td> <th>  Durbin-Watson:     </th> <td>   2.062</td>\n</tr>\n<tr>\n  <th>Prob(Omnibus):</th> <td> 0.000</td> <th>  Jarque-Bera (JB):  </th> <td>  59.106</td>\n</tr>\n<tr>\n  <th>Skew:</th>          <td> 0.695</td> <th>  Prob(JB):          </th> <td>1.46e-13</td>\n</tr>\n<tr>\n  <th>Kurtosis:</th>      <td> 4.492</td> <th>  Cond. No.          </th> <td>    9.08</td>\n</tr>\n</table><br/><br/>Notes:<br/>[1] Standard Errors assume that the covariance matrix of the errors is correctly specified."
     },
     "execution_count": 28,
     "metadata": {},
     "output_type": "execute_result"
    }
   ],
   "source": [
    "import statsmodels.api as sm\n",
    "# Add a constant to get an intercept\n",
    "X_sm = sm.add_constant(X)\n",
    "linear_regression_sm = sm.OLS(y, X_sm).fit()\n",
    "linear_regression_sm.summary()"
   ],
   "metadata": {
    "collapsed": false
   }
  },
  {
   "cell_type": "code",
   "execution_count": null,
   "outputs": [],
   "source": [],
   "metadata": {
    "collapsed": false
   }
  }
 ],
 "metadata": {
  "kernelspec": {
   "display_name": "Python 3",
   "language": "python",
   "name": "python3"
  },
  "language_info": {
   "codemirror_mode": {
    "name": "ipython",
    "version": 2
   },
   "file_extension": ".py",
   "mimetype": "text/x-python",
   "name": "python",
   "nbconvert_exporter": "python",
   "pygments_lexer": "ipython2",
   "version": "2.7.6"
  }
 },
 "nbformat": 4,
 "nbformat_minor": 0
}

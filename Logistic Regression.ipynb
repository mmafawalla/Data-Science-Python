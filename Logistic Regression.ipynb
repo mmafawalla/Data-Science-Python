{
 "cells": [
  {
   "cell_type": "markdown",
   "source": [
    "<p style=\"font-name: monospace; line-height: 2; font-size: 20px; font-weight: bold; letter-spacing: 2px; text-align: center;\">بسم الله الرحمن الرحيم</p>"
   ],
   "metadata": {
    "collapsed": false
   }
  },
  {
   "cell_type": "markdown",
   "source": [
    "# Logistic Regression"
   ],
   "metadata": {
    "collapsed": false
   }
  },
  {
   "cell_type": "markdown",
   "source": [
    "# Problem"
   ],
   "metadata": {
    "collapsed": false
   }
  },
  {
   "cell_type": "markdown",
   "source": [
    "Predict if it will rain tomorrow using weather data in Australia"
   ],
   "metadata": {
    "collapsed": false
   }
  },
  {
   "cell_type": "markdown",
   "source": [
    "# Model Selection and Description"
   ],
   "metadata": {
    "collapsed": false
   }
  },
  {
   "cell_type": "markdown",
   "source": [
    "Logistic regression is a supervised classification algorithm which is used to predict observations to a discrete set of classes e.g rain OR no rain"
   ],
   "metadata": {
    "collapsed": false
   }
  },
  {
   "cell_type": "markdown",
   "source": [
    "## Sigmoid Function"
   ],
   "metadata": {
    "collapsed": false
   }
  },
  {
   "cell_type": "markdown",
   "source": [
    "The sigmoid function is used to map probability values, the sigmoid  maps any real number into a value between 0 and 1. If the probability is greater than our threshold value e.g 0.5, then we map this observation to the class."
   ],
   "metadata": {
    "collapsed": false
   }
  },
  {
   "cell_type": "markdown",
   "source": [
    "# 1. Library Import"
   ],
   "metadata": {
    "collapsed": false
   }
  },
  {
   "cell_type": "code",
   "execution_count": 110,
   "outputs": [],
   "source": [
    "import numpy as np\n",
    "import pandas as pd\n",
    "import matplotlib.pyplot as plt\n",
    "import seaborn as sns\n",
    "%matplotlib inline"
   ],
   "metadata": {
    "collapsed": false
   }
  },
  {
   "cell_type": "markdown",
   "source": [
    "# 2. Dataset Import"
   ],
   "metadata": {
    "collapsed": false
   }
  },
  {
   "cell_type": "code",
   "execution_count": 111,
   "outputs": [
    {
     "name": "stdout",
     "output_type": "stream",
     "text": [
      "<class 'pandas.core.frame.DataFrame'>\n",
      "RangeIndex: 145460 entries, 0 to 145459\n",
      "Data columns (total 23 columns):\n",
      " #   Column         Non-Null Count   Dtype  \n",
      "---  ------         --------------   -----  \n",
      " 0   Date           145460 non-null  object \n",
      " 1   Location       145460 non-null  object \n",
      " 2   MinTemp        143975 non-null  float64\n",
      " 3   MaxTemp        144199 non-null  float64\n",
      " 4   Rainfall       142199 non-null  float64\n",
      " 5   Evaporation    82670 non-null   float64\n",
      " 6   Sunshine       75625 non-null   float64\n",
      " 7   WindGustDir    135134 non-null  object \n",
      " 8   WindGustSpeed  135197 non-null  float64\n",
      " 9   WindDir9am     134894 non-null  object \n",
      " 10  WindDir3pm     141232 non-null  object \n",
      " 11  WindSpeed9am   143693 non-null  float64\n",
      " 12  WindSpeed3pm   142398 non-null  float64\n",
      " 13  Humidity9am    142806 non-null  float64\n",
      " 14  Humidity3pm    140953 non-null  float64\n",
      " 15  Pressure9am    130395 non-null  float64\n",
      " 16  Pressure3pm    130432 non-null  float64\n",
      " 17  Cloud9am       89572 non-null   float64\n",
      " 18  Cloud3pm       86102 non-null   float64\n",
      " 19  Temp9am        143693 non-null  float64\n",
      " 20  Temp3pm        141851 non-null  float64\n",
      " 21  RainToday      142199 non-null  object \n",
      " 22  RainTomorrow   142193 non-null  object \n",
      "dtypes: float64(16), object(7)\n",
      "memory usage: 25.5+ MB\n"
     ]
    }
   ],
   "source": [
    "df = pd.read_csv('Data/weather_australia.csv')\n",
    "df.info()"
   ],
   "metadata": {
    "collapsed": false
   }
  },
  {
   "cell_type": "code",
   "execution_count": 112,
   "outputs": [
    {
     "data": {
      "text/plain": "         Date Location  MinTemp  MaxTemp  Rainfall  Evaporation  Sunshine  \\\n0  2008-12-01   Albury     13.4     22.9       0.6          NaN       NaN   \n1  2008-12-02   Albury      7.4     25.1       0.0          NaN       NaN   \n2  2008-12-03   Albury     12.9     25.7       0.0          NaN       NaN   \n3  2008-12-04   Albury      9.2     28.0       0.0          NaN       NaN   \n4  2008-12-05   Albury     17.5     32.3       1.0          NaN       NaN   \n\n  WindGustDir  WindGustSpeed WindDir9am  ... Humidity9am  Humidity3pm  \\\n0           W           44.0          W  ...        71.0         22.0   \n1         WNW           44.0        NNW  ...        44.0         25.0   \n2         WSW           46.0          W  ...        38.0         30.0   \n3          NE           24.0         SE  ...        45.0         16.0   \n4           W           41.0        ENE  ...        82.0         33.0   \n\n   Pressure9am  Pressure3pm  Cloud9am  Cloud3pm  Temp9am  Temp3pm  RainToday  \\\n0       1007.7       1007.1       8.0       NaN     16.9     21.8         No   \n1       1010.6       1007.8       NaN       NaN     17.2     24.3         No   \n2       1007.6       1008.7       NaN       2.0     21.0     23.2         No   \n3       1017.6       1012.8       NaN       NaN     18.1     26.5         No   \n4       1010.8       1006.0       7.0       8.0     17.8     29.7         No   \n\n   RainTomorrow  \n0            No  \n1            No  \n2            No  \n3            No  \n4            No  \n\n[5 rows x 23 columns]",
      "text/html": "<div>\n<style scoped>\n    .dataframe tbody tr th:only-of-type {\n        vertical-align: middle;\n    }\n\n    .dataframe tbody tr th {\n        vertical-align: top;\n    }\n\n    .dataframe thead th {\n        text-align: right;\n    }\n</style>\n<table border=\"1\" class=\"dataframe\">\n  <thead>\n    <tr style=\"text-align: right;\">\n      <th></th>\n      <th>Date</th>\n      <th>Location</th>\n      <th>MinTemp</th>\n      <th>MaxTemp</th>\n      <th>Rainfall</th>\n      <th>Evaporation</th>\n      <th>Sunshine</th>\n      <th>WindGustDir</th>\n      <th>WindGustSpeed</th>\n      <th>WindDir9am</th>\n      <th>...</th>\n      <th>Humidity9am</th>\n      <th>Humidity3pm</th>\n      <th>Pressure9am</th>\n      <th>Pressure3pm</th>\n      <th>Cloud9am</th>\n      <th>Cloud3pm</th>\n      <th>Temp9am</th>\n      <th>Temp3pm</th>\n      <th>RainToday</th>\n      <th>RainTomorrow</th>\n    </tr>\n  </thead>\n  <tbody>\n    <tr>\n      <th>0</th>\n      <td>2008-12-01</td>\n      <td>Albury</td>\n      <td>13.4</td>\n      <td>22.9</td>\n      <td>0.6</td>\n      <td>NaN</td>\n      <td>NaN</td>\n      <td>W</td>\n      <td>44.0</td>\n      <td>W</td>\n      <td>...</td>\n      <td>71.0</td>\n      <td>22.0</td>\n      <td>1007.7</td>\n      <td>1007.1</td>\n      <td>8.0</td>\n      <td>NaN</td>\n      <td>16.9</td>\n      <td>21.8</td>\n      <td>No</td>\n      <td>No</td>\n    </tr>\n    <tr>\n      <th>1</th>\n      <td>2008-12-02</td>\n      <td>Albury</td>\n      <td>7.4</td>\n      <td>25.1</td>\n      <td>0.0</td>\n      <td>NaN</td>\n      <td>NaN</td>\n      <td>WNW</td>\n      <td>44.0</td>\n      <td>NNW</td>\n      <td>...</td>\n      <td>44.0</td>\n      <td>25.0</td>\n      <td>1010.6</td>\n      <td>1007.8</td>\n      <td>NaN</td>\n      <td>NaN</td>\n      <td>17.2</td>\n      <td>24.3</td>\n      <td>No</td>\n      <td>No</td>\n    </tr>\n    <tr>\n      <th>2</th>\n      <td>2008-12-03</td>\n      <td>Albury</td>\n      <td>12.9</td>\n      <td>25.7</td>\n      <td>0.0</td>\n      <td>NaN</td>\n      <td>NaN</td>\n      <td>WSW</td>\n      <td>46.0</td>\n      <td>W</td>\n      <td>...</td>\n      <td>38.0</td>\n      <td>30.0</td>\n      <td>1007.6</td>\n      <td>1008.7</td>\n      <td>NaN</td>\n      <td>2.0</td>\n      <td>21.0</td>\n      <td>23.2</td>\n      <td>No</td>\n      <td>No</td>\n    </tr>\n    <tr>\n      <th>3</th>\n      <td>2008-12-04</td>\n      <td>Albury</td>\n      <td>9.2</td>\n      <td>28.0</td>\n      <td>0.0</td>\n      <td>NaN</td>\n      <td>NaN</td>\n      <td>NE</td>\n      <td>24.0</td>\n      <td>SE</td>\n      <td>...</td>\n      <td>45.0</td>\n      <td>16.0</td>\n      <td>1017.6</td>\n      <td>1012.8</td>\n      <td>NaN</td>\n      <td>NaN</td>\n      <td>18.1</td>\n      <td>26.5</td>\n      <td>No</td>\n      <td>No</td>\n    </tr>\n    <tr>\n      <th>4</th>\n      <td>2008-12-05</td>\n      <td>Albury</td>\n      <td>17.5</td>\n      <td>32.3</td>\n      <td>1.0</td>\n      <td>NaN</td>\n      <td>NaN</td>\n      <td>W</td>\n      <td>41.0</td>\n      <td>ENE</td>\n      <td>...</td>\n      <td>82.0</td>\n      <td>33.0</td>\n      <td>1010.8</td>\n      <td>1006.0</td>\n      <td>7.0</td>\n      <td>8.0</td>\n      <td>17.8</td>\n      <td>29.7</td>\n      <td>No</td>\n      <td>No</td>\n    </tr>\n  </tbody>\n</table>\n<p>5 rows × 23 columns</p>\n</div>"
     },
     "execution_count": 112,
     "metadata": {},
     "output_type": "execute_result"
    }
   ],
   "source": [
    "df.head()"
   ],
   "metadata": {
    "collapsed": false
   }
  },
  {
   "cell_type": "markdown",
   "source": [
    "## 7.Exploratory Data Analysis"
   ],
   "metadata": {
    "collapsed": false
   }
  },
  {
   "cell_type": "code",
   "execution_count": 113,
   "outputs": [
    {
     "name": "stdout",
     "output_type": "stream",
     "text": [
      "There are 7 categorical variables\n",
      "\n",
      "The categorical variables are : ['Date', 'Location', 'WindGustDir', 'WindDir9am', 'WindDir3pm', 'RainToday', 'RainTomorrow']\n"
     ]
    }
   ],
   "source": [
    "categorical = [var for var in df.columns if df[var].dtype=='O']\n",
    "print('There are {} categorical variables\\n'.format(len(categorical)))\n",
    "print('The categorical variables are :', categorical)"
   ],
   "metadata": {
    "collapsed": false
   }
  },
  {
   "cell_type": "code",
   "execution_count": 114,
   "outputs": [
    {
     "data": {
      "text/plain": "         Date Location WindGustDir WindDir9am WindDir3pm RainToday  \\\n0  2008-12-01   Albury           W          W        WNW        No   \n1  2008-12-02   Albury         WNW        NNW        WSW        No   \n2  2008-12-03   Albury         WSW          W        WSW        No   \n3  2008-12-04   Albury          NE         SE          E        No   \n4  2008-12-05   Albury           W        ENE         NW        No   \n\n  RainTomorrow  \n0           No  \n1           No  \n2           No  \n3           No  \n4           No  ",
      "text/html": "<div>\n<style scoped>\n    .dataframe tbody tr th:only-of-type {\n        vertical-align: middle;\n    }\n\n    .dataframe tbody tr th {\n        vertical-align: top;\n    }\n\n    .dataframe thead th {\n        text-align: right;\n    }\n</style>\n<table border=\"1\" class=\"dataframe\">\n  <thead>\n    <tr style=\"text-align: right;\">\n      <th></th>\n      <th>Date</th>\n      <th>Location</th>\n      <th>WindGustDir</th>\n      <th>WindDir9am</th>\n      <th>WindDir3pm</th>\n      <th>RainToday</th>\n      <th>RainTomorrow</th>\n    </tr>\n  </thead>\n  <tbody>\n    <tr>\n      <th>0</th>\n      <td>2008-12-01</td>\n      <td>Albury</td>\n      <td>W</td>\n      <td>W</td>\n      <td>WNW</td>\n      <td>No</td>\n      <td>No</td>\n    </tr>\n    <tr>\n      <th>1</th>\n      <td>2008-12-02</td>\n      <td>Albury</td>\n      <td>WNW</td>\n      <td>NNW</td>\n      <td>WSW</td>\n      <td>No</td>\n      <td>No</td>\n    </tr>\n    <tr>\n      <th>2</th>\n      <td>2008-12-03</td>\n      <td>Albury</td>\n      <td>WSW</td>\n      <td>W</td>\n      <td>WSW</td>\n      <td>No</td>\n      <td>No</td>\n    </tr>\n    <tr>\n      <th>3</th>\n      <td>2008-12-04</td>\n      <td>Albury</td>\n      <td>NE</td>\n      <td>SE</td>\n      <td>E</td>\n      <td>No</td>\n      <td>No</td>\n    </tr>\n    <tr>\n      <th>4</th>\n      <td>2008-12-05</td>\n      <td>Albury</td>\n      <td>W</td>\n      <td>ENE</td>\n      <td>NW</td>\n      <td>No</td>\n      <td>No</td>\n    </tr>\n  </tbody>\n</table>\n</div>"
     },
     "execution_count": 114,
     "metadata": {},
     "output_type": "execute_result"
    }
   ],
   "source": [
    "# view the categorical variables\n",
    "df[categorical].head()"
   ],
   "metadata": {
    "collapsed": false
   }
  },
  {
   "cell_type": "markdown",
   "source": [
    "RainTomorrow will be a target variable"
   ],
   "metadata": {
    "collapsed": false
   }
  },
  {
   "cell_type": "markdown",
   "source": [
    "## Location Variable"
   ],
   "metadata": {
    "collapsed": false
   }
  },
  {
   "cell_type": "code",
   "execution_count": 115,
   "outputs": [
    {
     "data": {
      "text/plain": "array(['Albury', 'BadgerysCreek', 'Cobar', 'CoffsHarbour', 'Moree',\n       'Newcastle', 'NorahHead', 'NorfolkIsland', 'Penrith', 'Richmond',\n       'Sydney', 'SydneyAirport', 'WaggaWagga', 'Williamtown',\n       'Wollongong', 'Canberra', 'Tuggeranong', 'MountGinini', 'Ballarat',\n       'Bendigo', 'Sale', 'MelbourneAirport', 'Melbourne', 'Mildura',\n       'Nhil', 'Portland', 'Watsonia', 'Dartmoor', 'Brisbane', 'Cairns',\n       'GoldCoast', 'Townsville', 'Adelaide', 'MountGambier', 'Nuriootpa',\n       'Woomera', 'Albany', 'Witchcliffe', 'PearceRAAF', 'PerthAirport',\n       'Perth', 'SalmonGums', 'Walpole', 'Hobart', 'Launceston',\n       'AliceSprings', 'Darwin', 'Katherine', 'Uluru'], dtype=object)"
     },
     "execution_count": 115,
     "metadata": {},
     "output_type": "execute_result"
    }
   ],
   "source": [
    "df.Location.unique()"
   ],
   "metadata": {
    "collapsed": false
   }
  },
  {
   "cell_type": "code",
   "execution_count": 116,
   "outputs": [
    {
     "data": {
      "text/plain": "Canberra            3436\nSydney              3344\nDarwin              3193\nMelbourne           3193\nBrisbane            3193\nAdelaide            3193\nPerth               3193\nHobart              3193\nAlbany              3040\nMountGambier        3040\nBallarat            3040\nTownsville          3040\nGoldCoast           3040\nCairns              3040\nLaunceston          3040\nAliceSprings        3040\nBendigo             3040\nAlbury              3040\nMountGinini         3040\nWollongong          3040\nNewcastle           3039\nTuggeranong         3039\nPenrith             3039\nWoomera             3009\nNuriootpa           3009\nCobar               3009\nCoffsHarbour        3009\nMoree               3009\nSale                3009\nPerthAirport        3009\nPearceRAAF          3009\nWitchcliffe         3009\nBadgerysCreek       3009\nMildura             3009\nNorfolkIsland       3009\nMelbourneAirport    3009\nRichmond            3009\nSydneyAirport       3009\nWaggaWagga          3009\nWilliamtown         3009\nDartmoor            3009\nWatsonia            3009\nPortland            3009\nWalpole             3006\nNorahHead           3004\nSalmonGums          3001\nKatherine           1578\nNhil                1578\nUluru               1578\nName: Location, dtype: int64"
     },
     "execution_count": 116,
     "metadata": {},
     "output_type": "execute_result"
    }
   ],
   "source": [
    "df.Location.value_counts()"
   ],
   "metadata": {
    "collapsed": false
   }
  },
  {
   "cell_type": "code",
   "execution_count": 117,
   "outputs": [],
   "source": [
    "# One Hot Encoding of Location Variable"
   ],
   "metadata": {
    "collapsed": false
   }
  },
  {
   "cell_type": "code",
   "execution_count": 118,
   "outputs": [
    {
     "data": {
      "text/plain": "   Albany  Albury  AliceSprings  BadgerysCreek  Ballarat  Bendigo  Brisbane  \\\n0       0       1             0              0         0        0         0   \n1       0       1             0              0         0        0         0   \n2       0       1             0              0         0        0         0   \n3       0       1             0              0         0        0         0   \n4       0       1             0              0         0        0         0   \n\n   Cairns  Canberra  Cobar  ...  Townsville  Tuggeranong  Uluru  WaggaWagga  \\\n0       0         0      0  ...           0            0      0           0   \n1       0         0      0  ...           0            0      0           0   \n2       0         0      0  ...           0            0      0           0   \n3       0         0      0  ...           0            0      0           0   \n4       0         0      0  ...           0            0      0           0   \n\n   Walpole  Watsonia  Williamtown  Witchcliffe  Wollongong  Woomera  \n0        0         0            0            0           0        0  \n1        0         0            0            0           0        0  \n2        0         0            0            0           0        0  \n3        0         0            0            0           0        0  \n4        0         0            0            0           0        0  \n\n[5 rows x 48 columns]",
      "text/html": "<div>\n<style scoped>\n    .dataframe tbody tr th:only-of-type {\n        vertical-align: middle;\n    }\n\n    .dataframe tbody tr th {\n        vertical-align: top;\n    }\n\n    .dataframe thead th {\n        text-align: right;\n    }\n</style>\n<table border=\"1\" class=\"dataframe\">\n  <thead>\n    <tr style=\"text-align: right;\">\n      <th></th>\n      <th>Albany</th>\n      <th>Albury</th>\n      <th>AliceSprings</th>\n      <th>BadgerysCreek</th>\n      <th>Ballarat</th>\n      <th>Bendigo</th>\n      <th>Brisbane</th>\n      <th>Cairns</th>\n      <th>Canberra</th>\n      <th>Cobar</th>\n      <th>...</th>\n      <th>Townsville</th>\n      <th>Tuggeranong</th>\n      <th>Uluru</th>\n      <th>WaggaWagga</th>\n      <th>Walpole</th>\n      <th>Watsonia</th>\n      <th>Williamtown</th>\n      <th>Witchcliffe</th>\n      <th>Wollongong</th>\n      <th>Woomera</th>\n    </tr>\n  </thead>\n  <tbody>\n    <tr>\n      <th>0</th>\n      <td>0</td>\n      <td>1</td>\n      <td>0</td>\n      <td>0</td>\n      <td>0</td>\n      <td>0</td>\n      <td>0</td>\n      <td>0</td>\n      <td>0</td>\n      <td>0</td>\n      <td>...</td>\n      <td>0</td>\n      <td>0</td>\n      <td>0</td>\n      <td>0</td>\n      <td>0</td>\n      <td>0</td>\n      <td>0</td>\n      <td>0</td>\n      <td>0</td>\n      <td>0</td>\n    </tr>\n    <tr>\n      <th>1</th>\n      <td>0</td>\n      <td>1</td>\n      <td>0</td>\n      <td>0</td>\n      <td>0</td>\n      <td>0</td>\n      <td>0</td>\n      <td>0</td>\n      <td>0</td>\n      <td>0</td>\n      <td>...</td>\n      <td>0</td>\n      <td>0</td>\n      <td>0</td>\n      <td>0</td>\n      <td>0</td>\n      <td>0</td>\n      <td>0</td>\n      <td>0</td>\n      <td>0</td>\n      <td>0</td>\n    </tr>\n    <tr>\n      <th>2</th>\n      <td>0</td>\n      <td>1</td>\n      <td>0</td>\n      <td>0</td>\n      <td>0</td>\n      <td>0</td>\n      <td>0</td>\n      <td>0</td>\n      <td>0</td>\n      <td>0</td>\n      <td>...</td>\n      <td>0</td>\n      <td>0</td>\n      <td>0</td>\n      <td>0</td>\n      <td>0</td>\n      <td>0</td>\n      <td>0</td>\n      <td>0</td>\n      <td>0</td>\n      <td>0</td>\n    </tr>\n    <tr>\n      <th>3</th>\n      <td>0</td>\n      <td>1</td>\n      <td>0</td>\n      <td>0</td>\n      <td>0</td>\n      <td>0</td>\n      <td>0</td>\n      <td>0</td>\n      <td>0</td>\n      <td>0</td>\n      <td>...</td>\n      <td>0</td>\n      <td>0</td>\n      <td>0</td>\n      <td>0</td>\n      <td>0</td>\n      <td>0</td>\n      <td>0</td>\n      <td>0</td>\n      <td>0</td>\n      <td>0</td>\n    </tr>\n    <tr>\n      <th>4</th>\n      <td>0</td>\n      <td>1</td>\n      <td>0</td>\n      <td>0</td>\n      <td>0</td>\n      <td>0</td>\n      <td>0</td>\n      <td>0</td>\n      <td>0</td>\n      <td>0</td>\n      <td>...</td>\n      <td>0</td>\n      <td>0</td>\n      <td>0</td>\n      <td>0</td>\n      <td>0</td>\n      <td>0</td>\n      <td>0</td>\n      <td>0</td>\n      <td>0</td>\n      <td>0</td>\n    </tr>\n  </tbody>\n</table>\n<p>5 rows × 48 columns</p>\n</div>"
     },
     "execution_count": 118,
     "metadata": {},
     "output_type": "execute_result"
    }
   ],
   "source": [
    "pd.get_dummies(df.Location, drop_first=True).head()"
   ],
   "metadata": {
    "collapsed": false
   }
  },
  {
   "cell_type": "markdown",
   "source": [
    "## WinGustDir Variable"
   ],
   "metadata": {
    "collapsed": false
   }
  },
  {
   "cell_type": "code",
   "execution_count": 119,
   "outputs": [
    {
     "data": {
      "text/plain": "array(['W', 'WNW', 'WSW', 'NE', 'NNW', 'N', 'NNE', 'SW', nan, 'ENE',\n       'SSE', 'S', 'NW', 'SE', 'ESE', 'E', 'SSW'], dtype=object)"
     },
     "execution_count": 119,
     "metadata": {},
     "output_type": "execute_result"
    }
   ],
   "source": [
    "df.WindGustDir.unique()"
   ],
   "metadata": {
    "collapsed": false
   }
  },
  {
   "cell_type": "code",
   "execution_count": 120,
   "outputs": [
    {
     "data": {
      "text/plain": "W      9915\nSE     9418\nN      9313\nSSE    9216\nE      9181\nS      9168\nWSW    9069\nSW     8967\nSSW    8736\nWNW    8252\nNW     8122\nENE    8104\nESE    7372\nNE     7133\nNNW    6620\nNNE    6548\nName: WindGustDir, dtype: int64"
     },
     "execution_count": 120,
     "metadata": {},
     "output_type": "execute_result"
    }
   ],
   "source": [
    "df.WindGustDir.value_counts()"
   ],
   "metadata": {
    "collapsed": false
   }
  },
  {
   "cell_type": "code",
   "execution_count": 121,
   "outputs": [
    {
     "data": {
      "text/plain": "   ENE  ESE  N  NE  NNE  NNW  NW  S  SE  SSE  SSW  SW  W  WNW  WSW  NaN\n0    0    0  0   0    0    0   0  0   0    0    0   0  1    0    0    0\n1    0    0  0   0    0    0   0  0   0    0    0   0  0    1    0    0\n2    0    0  0   0    0    0   0  0   0    0    0   0  0    0    1    0\n3    0    0  0   1    0    0   0  0   0    0    0   0  0    0    0    0\n4    0    0  0   0    0    0   0  0   0    0    0   0  1    0    0    0",
      "text/html": "<div>\n<style scoped>\n    .dataframe tbody tr th:only-of-type {\n        vertical-align: middle;\n    }\n\n    .dataframe tbody tr th {\n        vertical-align: top;\n    }\n\n    .dataframe thead th {\n        text-align: right;\n    }\n</style>\n<table border=\"1\" class=\"dataframe\">\n  <thead>\n    <tr style=\"text-align: right;\">\n      <th></th>\n      <th>ENE</th>\n      <th>ESE</th>\n      <th>N</th>\n      <th>NE</th>\n      <th>NNE</th>\n      <th>NNW</th>\n      <th>NW</th>\n      <th>S</th>\n      <th>SE</th>\n      <th>SSE</th>\n      <th>SSW</th>\n      <th>SW</th>\n      <th>W</th>\n      <th>WNW</th>\n      <th>WSW</th>\n      <th>NaN</th>\n    </tr>\n  </thead>\n  <tbody>\n    <tr>\n      <th>0</th>\n      <td>0</td>\n      <td>0</td>\n      <td>0</td>\n      <td>0</td>\n      <td>0</td>\n      <td>0</td>\n      <td>0</td>\n      <td>0</td>\n      <td>0</td>\n      <td>0</td>\n      <td>0</td>\n      <td>0</td>\n      <td>1</td>\n      <td>0</td>\n      <td>0</td>\n      <td>0</td>\n    </tr>\n    <tr>\n      <th>1</th>\n      <td>0</td>\n      <td>0</td>\n      <td>0</td>\n      <td>0</td>\n      <td>0</td>\n      <td>0</td>\n      <td>0</td>\n      <td>0</td>\n      <td>0</td>\n      <td>0</td>\n      <td>0</td>\n      <td>0</td>\n      <td>0</td>\n      <td>1</td>\n      <td>0</td>\n      <td>0</td>\n    </tr>\n    <tr>\n      <th>2</th>\n      <td>0</td>\n      <td>0</td>\n      <td>0</td>\n      <td>0</td>\n      <td>0</td>\n      <td>0</td>\n      <td>0</td>\n      <td>0</td>\n      <td>0</td>\n      <td>0</td>\n      <td>0</td>\n      <td>0</td>\n      <td>0</td>\n      <td>0</td>\n      <td>1</td>\n      <td>0</td>\n    </tr>\n    <tr>\n      <th>3</th>\n      <td>0</td>\n      <td>0</td>\n      <td>0</td>\n      <td>1</td>\n      <td>0</td>\n      <td>0</td>\n      <td>0</td>\n      <td>0</td>\n      <td>0</td>\n      <td>0</td>\n      <td>0</td>\n      <td>0</td>\n      <td>0</td>\n      <td>0</td>\n      <td>0</td>\n      <td>0</td>\n    </tr>\n    <tr>\n      <th>4</th>\n      <td>0</td>\n      <td>0</td>\n      <td>0</td>\n      <td>0</td>\n      <td>0</td>\n      <td>0</td>\n      <td>0</td>\n      <td>0</td>\n      <td>0</td>\n      <td>0</td>\n      <td>0</td>\n      <td>0</td>\n      <td>1</td>\n      <td>0</td>\n      <td>0</td>\n      <td>0</td>\n    </tr>\n  </tbody>\n</table>\n</div>"
     },
     "execution_count": 121,
     "metadata": {},
     "output_type": "execute_result"
    }
   ],
   "source": [
    "# One hot encoding for WindGustDir\n",
    "pd.get_dummies(df.WindGustDir, drop_first=True, dummy_na=True).head()"
   ],
   "metadata": {
    "collapsed": false
   }
  },
  {
   "cell_type": "markdown",
   "source": [
    "## WindDir9am Variable"
   ],
   "metadata": {
    "collapsed": false
   }
  },
  {
   "cell_type": "code",
   "execution_count": 122,
   "outputs": [
    {
     "data": {
      "text/plain": "N      11758\nSE      9287\nE       9176\nSSE     9112\nNW      8749\nS       8659\nW       8459\nSW      8423\nNNE     8129\nNNW     7980\nENE     7836\nNE      7671\nESE     7630\nSSW     7587\nWNW     7414\nWSW     7024\nName: WindDir9am, dtype: int64"
     },
     "execution_count": 122,
     "metadata": {},
     "output_type": "execute_result"
    }
   ],
   "source": [
    "df.WindDir9am.value_counts()"
   ],
   "metadata": {
    "collapsed": false
   }
  },
  {
   "cell_type": "code",
   "execution_count": 123,
   "outputs": [
    {
     "data": {
      "text/plain": "   ENE  ESE  N  NE  NNE  NNW  NW  S  SE  SSE  SSW  SW  W  WNW  WSW  NaN\n0    0    0  0   0    0    0   0  0   0    0    0   0  1    0    0    0\n1    0    0  0   0    0    1   0  0   0    0    0   0  0    0    0    0\n2    0    0  0   0    0    0   0  0   0    0    0   0  1    0    0    0\n3    0    0  0   0    0    0   0  0   1    0    0   0  0    0    0    0\n4    1    0  0   0    0    0   0  0   0    0    0   0  0    0    0    0",
      "text/html": "<div>\n<style scoped>\n    .dataframe tbody tr th:only-of-type {\n        vertical-align: middle;\n    }\n\n    .dataframe tbody tr th {\n        vertical-align: top;\n    }\n\n    .dataframe thead th {\n        text-align: right;\n    }\n</style>\n<table border=\"1\" class=\"dataframe\">\n  <thead>\n    <tr style=\"text-align: right;\">\n      <th></th>\n      <th>ENE</th>\n      <th>ESE</th>\n      <th>N</th>\n      <th>NE</th>\n      <th>NNE</th>\n      <th>NNW</th>\n      <th>NW</th>\n      <th>S</th>\n      <th>SE</th>\n      <th>SSE</th>\n      <th>SSW</th>\n      <th>SW</th>\n      <th>W</th>\n      <th>WNW</th>\n      <th>WSW</th>\n      <th>NaN</th>\n    </tr>\n  </thead>\n  <tbody>\n    <tr>\n      <th>0</th>\n      <td>0</td>\n      <td>0</td>\n      <td>0</td>\n      <td>0</td>\n      <td>0</td>\n      <td>0</td>\n      <td>0</td>\n      <td>0</td>\n      <td>0</td>\n      <td>0</td>\n      <td>0</td>\n      <td>0</td>\n      <td>1</td>\n      <td>0</td>\n      <td>0</td>\n      <td>0</td>\n    </tr>\n    <tr>\n      <th>1</th>\n      <td>0</td>\n      <td>0</td>\n      <td>0</td>\n      <td>0</td>\n      <td>0</td>\n      <td>1</td>\n      <td>0</td>\n      <td>0</td>\n      <td>0</td>\n      <td>0</td>\n      <td>0</td>\n      <td>0</td>\n      <td>0</td>\n      <td>0</td>\n      <td>0</td>\n      <td>0</td>\n    </tr>\n    <tr>\n      <th>2</th>\n      <td>0</td>\n      <td>0</td>\n      <td>0</td>\n      <td>0</td>\n      <td>0</td>\n      <td>0</td>\n      <td>0</td>\n      <td>0</td>\n      <td>0</td>\n      <td>0</td>\n      <td>0</td>\n      <td>0</td>\n      <td>1</td>\n      <td>0</td>\n      <td>0</td>\n      <td>0</td>\n    </tr>\n    <tr>\n      <th>3</th>\n      <td>0</td>\n      <td>0</td>\n      <td>0</td>\n      <td>0</td>\n      <td>0</td>\n      <td>0</td>\n      <td>0</td>\n      <td>0</td>\n      <td>1</td>\n      <td>0</td>\n      <td>0</td>\n      <td>0</td>\n      <td>0</td>\n      <td>0</td>\n      <td>0</td>\n      <td>0</td>\n    </tr>\n    <tr>\n      <th>4</th>\n      <td>1</td>\n      <td>0</td>\n      <td>0</td>\n      <td>0</td>\n      <td>0</td>\n      <td>0</td>\n      <td>0</td>\n      <td>0</td>\n      <td>0</td>\n      <td>0</td>\n      <td>0</td>\n      <td>0</td>\n      <td>0</td>\n      <td>0</td>\n      <td>0</td>\n      <td>0</td>\n    </tr>\n  </tbody>\n</table>\n</div>"
     },
     "execution_count": 123,
     "metadata": {},
     "output_type": "execute_result"
    }
   ],
   "source": [
    "# One Hot encoding for WindDir9am Variable\n",
    "pd.get_dummies(df.WindDir9am, drop_first=True, dummy_na=True).head()"
   ],
   "metadata": {
    "collapsed": false
   }
  },
  {
   "cell_type": "markdown",
   "source": [
    "## WindDir3pm Variable"
   ],
   "metadata": {
    "collapsed": false
   }
  },
  {
   "cell_type": "code",
   "execution_count": 124,
   "outputs": [
    {
     "data": {
      "text/plain": "SE     10838\nW      10110\nS       9926\nWSW     9518\nSSE     9399\nSW      9354\nN       8890\nWNW     8874\nNW      8610\nESE     8505\nE       8472\nNE      8263\nSSW     8156\nNNW     7870\nENE     7857\nNNE     6590\nName: WindDir3pm, dtype: int64"
     },
     "execution_count": 124,
     "metadata": {},
     "output_type": "execute_result"
    }
   ],
   "source": [
    "df.WindDir3pm.value_counts()"
   ],
   "metadata": {
    "collapsed": false
   }
  },
  {
   "cell_type": "code",
   "execution_count": 125,
   "outputs": [
    {
     "data": {
      "text/plain": "   ENE  ESE  N  NE  NNE  NNW  NW  S  SE  SSE  SSW  SW  W  WNW  WSW  NaN\n0    0    0  0   0    0    0   0  0   0    0    0   0  0    1    0    0\n1    0    0  0   0    0    0   0  0   0    0    0   0  0    0    1    0\n2    0    0  0   0    0    0   0  0   0    0    0   0  0    0    1    0\n3    0    0  0   0    0    0   0  0   0    0    0   0  0    0    0    0\n4    0    0  0   0    0    0   1  0   0    0    0   0  0    0    0    0",
      "text/html": "<div>\n<style scoped>\n    .dataframe tbody tr th:only-of-type {\n        vertical-align: middle;\n    }\n\n    .dataframe tbody tr th {\n        vertical-align: top;\n    }\n\n    .dataframe thead th {\n        text-align: right;\n    }\n</style>\n<table border=\"1\" class=\"dataframe\">\n  <thead>\n    <tr style=\"text-align: right;\">\n      <th></th>\n      <th>ENE</th>\n      <th>ESE</th>\n      <th>N</th>\n      <th>NE</th>\n      <th>NNE</th>\n      <th>NNW</th>\n      <th>NW</th>\n      <th>S</th>\n      <th>SE</th>\n      <th>SSE</th>\n      <th>SSW</th>\n      <th>SW</th>\n      <th>W</th>\n      <th>WNW</th>\n      <th>WSW</th>\n      <th>NaN</th>\n    </tr>\n  </thead>\n  <tbody>\n    <tr>\n      <th>0</th>\n      <td>0</td>\n      <td>0</td>\n      <td>0</td>\n      <td>0</td>\n      <td>0</td>\n      <td>0</td>\n      <td>0</td>\n      <td>0</td>\n      <td>0</td>\n      <td>0</td>\n      <td>0</td>\n      <td>0</td>\n      <td>0</td>\n      <td>1</td>\n      <td>0</td>\n      <td>0</td>\n    </tr>\n    <tr>\n      <th>1</th>\n      <td>0</td>\n      <td>0</td>\n      <td>0</td>\n      <td>0</td>\n      <td>0</td>\n      <td>0</td>\n      <td>0</td>\n      <td>0</td>\n      <td>0</td>\n      <td>0</td>\n      <td>0</td>\n      <td>0</td>\n      <td>0</td>\n      <td>0</td>\n      <td>1</td>\n      <td>0</td>\n    </tr>\n    <tr>\n      <th>2</th>\n      <td>0</td>\n      <td>0</td>\n      <td>0</td>\n      <td>0</td>\n      <td>0</td>\n      <td>0</td>\n      <td>0</td>\n      <td>0</td>\n      <td>0</td>\n      <td>0</td>\n      <td>0</td>\n      <td>0</td>\n      <td>0</td>\n      <td>0</td>\n      <td>1</td>\n      <td>0</td>\n    </tr>\n    <tr>\n      <th>3</th>\n      <td>0</td>\n      <td>0</td>\n      <td>0</td>\n      <td>0</td>\n      <td>0</td>\n      <td>0</td>\n      <td>0</td>\n      <td>0</td>\n      <td>0</td>\n      <td>0</td>\n      <td>0</td>\n      <td>0</td>\n      <td>0</td>\n      <td>0</td>\n      <td>0</td>\n      <td>0</td>\n    </tr>\n    <tr>\n      <th>4</th>\n      <td>0</td>\n      <td>0</td>\n      <td>0</td>\n      <td>0</td>\n      <td>0</td>\n      <td>0</td>\n      <td>1</td>\n      <td>0</td>\n      <td>0</td>\n      <td>0</td>\n      <td>0</td>\n      <td>0</td>\n      <td>0</td>\n      <td>0</td>\n      <td>0</td>\n      <td>0</td>\n    </tr>\n  </tbody>\n</table>\n</div>"
     },
     "execution_count": 125,
     "metadata": {},
     "output_type": "execute_result"
    }
   ],
   "source": [
    "pd.get_dummies(df.WindDir3pm, drop_first=True, dummy_na=True).head()"
   ],
   "metadata": {
    "collapsed": false
   }
  },
  {
   "cell_type": "markdown",
   "source": [
    "## RainToday Variable"
   ],
   "metadata": {
    "collapsed": false
   }
  },
  {
   "cell_type": "code",
   "execution_count": 126,
   "outputs": [
    {
     "data": {
      "text/plain": "No     110319\nYes     31880\nName: RainToday, dtype: int64"
     },
     "execution_count": 126,
     "metadata": {},
     "output_type": "execute_result"
    }
   ],
   "source": [
    "df.RainToday.value_counts()"
   ],
   "metadata": {
    "collapsed": false
   }
  },
  {
   "cell_type": "code",
   "execution_count": 127,
   "outputs": [
    {
     "data": {
      "text/plain": "Yes    31880\nNaN     3261\ndtype: int64"
     },
     "execution_count": 127,
     "metadata": {},
     "output_type": "execute_result"
    }
   ],
   "source": [
    "pd.get_dummies(df.RainToday, drop_first=True, dummy_na=True).sum(axis=0)"
   ],
   "metadata": {
    "collapsed": false
   }
  },
  {
   "cell_type": "markdown",
   "source": [
    "# 8. Missing Values"
   ],
   "metadata": {
    "collapsed": false
   }
  },
  {
   "cell_type": "code",
   "execution_count": 128,
   "outputs": [
    {
     "data": {
      "text/plain": "Date                0\nLocation            0\nWindGustDir     10326\nWindDir9am      10566\nWindDir3pm       4228\nRainToday        3261\nRainTomorrow     3267\ndtype: int64"
     },
     "execution_count": 128,
     "metadata": {},
     "output_type": "execute_result"
    }
   ],
   "source": [
    "# View amount of missing values\n",
    "df[categorical].isnull().sum()"
   ],
   "metadata": {
    "collapsed": false
   }
  },
  {
   "cell_type": "markdown",
   "source": [
    "## Number of Labels: Cardinality"
   ],
   "metadata": {
    "collapsed": false
   }
  },
  {
   "cell_type": "markdown",
   "source": [
    "The number of labels within a categorical variable is known as cardinality. A high number of labels within a variable is known as high cardinality. High cardinality may pose problems in a machine learning model"
   ],
   "metadata": {
    "collapsed": false
   }
  },
  {
   "cell_type": "code",
   "execution_count": 129,
   "outputs": [
    {
     "name": "stdout",
     "output_type": "stream",
     "text": [
      "Date  contains  3436  labels\n",
      "Location  contains  49  labels\n",
      "WindGustDir  contains  17  labels\n",
      "WindDir9am  contains  17  labels\n",
      "WindDir3pm  contains  17  labels\n",
      "RainToday  contains  3  labels\n",
      "RainTomorrow  contains  3  labels\n"
     ]
    }
   ],
   "source": [
    "for var in categorical:\n",
    "    print(var, ' contains ', len(df[var].unique()), ' labels')"
   ],
   "metadata": {
    "collapsed": false
   }
  },
  {
   "cell_type": "markdown",
   "source": [
    "## Feature Engineering of Date Variable"
   ],
   "metadata": {
    "collapsed": false
   }
  },
  {
   "cell_type": "code",
   "execution_count": 130,
   "outputs": [
    {
     "data": {
      "text/plain": "dtype('O')"
     },
     "execution_count": 130,
     "metadata": {},
     "output_type": "execute_result"
    }
   ],
   "source": [
    "df['Date'].dtype"
   ],
   "metadata": {
    "collapsed": false
   }
  },
  {
   "cell_type": "markdown",
   "source": [
    "We will parse the Date feature from object to datetime format"
   ],
   "metadata": {
    "collapsed": false
   }
  },
  {
   "cell_type": "code",
   "execution_count": 131,
   "outputs": [],
   "source": [
    "df['Date'] = pd.to_datetime(df['Date'])"
   ],
   "metadata": {
    "collapsed": false
   }
  },
  {
   "cell_type": "code",
   "execution_count": 132,
   "outputs": [
    {
     "data": {
      "text/plain": "0    2008\n1    2008\n2    2008\n3    2008\n4    2008\nName: Year, dtype: int64"
     },
     "execution_count": 132,
     "metadata": {},
     "output_type": "execute_result"
    }
   ],
   "source": [
    "# Extract year from date\n",
    "df['Year'] = df['Date'].dt.year\n",
    "df['Year'].head()"
   ],
   "metadata": {
    "collapsed": false
   }
  },
  {
   "cell_type": "code",
   "execution_count": 133,
   "outputs": [
    {
     "data": {
      "text/plain": "0    12\n1    12\n2    12\n3    12\n4    12\nName: Month, dtype: int64"
     },
     "execution_count": 133,
     "metadata": {},
     "output_type": "execute_result"
    }
   ],
   "source": [
    "df['Month'] = df['Date'].dt.month\n",
    "df['Month'].head()"
   ],
   "metadata": {
    "collapsed": false
   }
  },
  {
   "cell_type": "code",
   "execution_count": 134,
   "outputs": [
    {
     "data": {
      "text/plain": "0    1\n1    2\n2    3\n3    4\n4    5\nName: Day, dtype: int64"
     },
     "execution_count": 134,
     "metadata": {},
     "output_type": "execute_result"
    }
   ],
   "source": [
    "df['Day'] = df['Date'].dt.day\n",
    "df['Day'].head()"
   ],
   "metadata": {
    "collapsed": false
   }
  },
  {
   "cell_type": "code",
   "execution_count": 135,
   "outputs": [
    {
     "name": "stdout",
     "output_type": "stream",
     "text": [
      "<class 'pandas.core.frame.DataFrame'>\n",
      "RangeIndex: 145460 entries, 0 to 145459\n",
      "Data columns (total 26 columns):\n",
      " #   Column         Non-Null Count   Dtype         \n",
      "---  ------         --------------   -----         \n",
      " 0   Date           145460 non-null  datetime64[ns]\n",
      " 1   Location       145460 non-null  object        \n",
      " 2   MinTemp        143975 non-null  float64       \n",
      " 3   MaxTemp        144199 non-null  float64       \n",
      " 4   Rainfall       142199 non-null  float64       \n",
      " 5   Evaporation    82670 non-null   float64       \n",
      " 6   Sunshine       75625 non-null   float64       \n",
      " 7   WindGustDir    135134 non-null  object        \n",
      " 8   WindGustSpeed  135197 non-null  float64       \n",
      " 9   WindDir9am     134894 non-null  object        \n",
      " 10  WindDir3pm     141232 non-null  object        \n",
      " 11  WindSpeed9am   143693 non-null  float64       \n",
      " 12  WindSpeed3pm   142398 non-null  float64       \n",
      " 13  Humidity9am    142806 non-null  float64       \n",
      " 14  Humidity3pm    140953 non-null  float64       \n",
      " 15  Pressure9am    130395 non-null  float64       \n",
      " 16  Pressure3pm    130432 non-null  float64       \n",
      " 17  Cloud9am       89572 non-null   float64       \n",
      " 18  Cloud3pm       86102 non-null   float64       \n",
      " 19  Temp9am        143693 non-null  float64       \n",
      " 20  Temp3pm        141851 non-null  float64       \n",
      " 21  RainToday      142199 non-null  object        \n",
      " 22  RainTomorrow   142193 non-null  object        \n",
      " 23  Year           145460 non-null  int64         \n",
      " 24  Month          145460 non-null  int64         \n",
      " 25  Day            145460 non-null  int64         \n",
      "dtypes: datetime64[ns](1), float64(16), int64(3), object(6)\n",
      "memory usage: 28.9+ MB\n"
     ]
    }
   ],
   "source": [
    "df.info()"
   ],
   "metadata": {
    "collapsed": false
   }
  },
  {
   "cell_type": "code",
   "execution_count": 136,
   "outputs": [
    {
     "data": {
      "text/plain": "  Location  MinTemp  MaxTemp  Rainfall  Evaporation  Sunshine WindGustDir  \\\n0   Albury     13.4     22.9       0.6          NaN       NaN           W   \n1   Albury      7.4     25.1       0.0          NaN       NaN         WNW   \n2   Albury     12.9     25.7       0.0          NaN       NaN         WSW   \n3   Albury      9.2     28.0       0.0          NaN       NaN          NE   \n4   Albury     17.5     32.3       1.0          NaN       NaN           W   \n\n   WindGustSpeed WindDir9am WindDir3pm  ...  Pressure3pm  Cloud9am  Cloud3pm  \\\n0           44.0          W        WNW  ...       1007.1       8.0       NaN   \n1           44.0        NNW        WSW  ...       1007.8       NaN       NaN   \n2           46.0          W        WSW  ...       1008.7       NaN       2.0   \n3           24.0         SE          E  ...       1012.8       NaN       NaN   \n4           41.0        ENE         NW  ...       1006.0       7.0       8.0   \n\n   Temp9am  Temp3pm  RainToday  RainTomorrow  Year  Month  Day  \n0     16.9     21.8         No            No  2008     12    1  \n1     17.2     24.3         No            No  2008     12    2  \n2     21.0     23.2         No            No  2008     12    3  \n3     18.1     26.5         No            No  2008     12    4  \n4     17.8     29.7         No            No  2008     12    5  \n\n[5 rows x 25 columns]",
      "text/html": "<div>\n<style scoped>\n    .dataframe tbody tr th:only-of-type {\n        vertical-align: middle;\n    }\n\n    .dataframe tbody tr th {\n        vertical-align: top;\n    }\n\n    .dataframe thead th {\n        text-align: right;\n    }\n</style>\n<table border=\"1\" class=\"dataframe\">\n  <thead>\n    <tr style=\"text-align: right;\">\n      <th></th>\n      <th>Location</th>\n      <th>MinTemp</th>\n      <th>MaxTemp</th>\n      <th>Rainfall</th>\n      <th>Evaporation</th>\n      <th>Sunshine</th>\n      <th>WindGustDir</th>\n      <th>WindGustSpeed</th>\n      <th>WindDir9am</th>\n      <th>WindDir3pm</th>\n      <th>...</th>\n      <th>Pressure3pm</th>\n      <th>Cloud9am</th>\n      <th>Cloud3pm</th>\n      <th>Temp9am</th>\n      <th>Temp3pm</th>\n      <th>RainToday</th>\n      <th>RainTomorrow</th>\n      <th>Year</th>\n      <th>Month</th>\n      <th>Day</th>\n    </tr>\n  </thead>\n  <tbody>\n    <tr>\n      <th>0</th>\n      <td>Albury</td>\n      <td>13.4</td>\n      <td>22.9</td>\n      <td>0.6</td>\n      <td>NaN</td>\n      <td>NaN</td>\n      <td>W</td>\n      <td>44.0</td>\n      <td>W</td>\n      <td>WNW</td>\n      <td>...</td>\n      <td>1007.1</td>\n      <td>8.0</td>\n      <td>NaN</td>\n      <td>16.9</td>\n      <td>21.8</td>\n      <td>No</td>\n      <td>No</td>\n      <td>2008</td>\n      <td>12</td>\n      <td>1</td>\n    </tr>\n    <tr>\n      <th>1</th>\n      <td>Albury</td>\n      <td>7.4</td>\n      <td>25.1</td>\n      <td>0.0</td>\n      <td>NaN</td>\n      <td>NaN</td>\n      <td>WNW</td>\n      <td>44.0</td>\n      <td>NNW</td>\n      <td>WSW</td>\n      <td>...</td>\n      <td>1007.8</td>\n      <td>NaN</td>\n      <td>NaN</td>\n      <td>17.2</td>\n      <td>24.3</td>\n      <td>No</td>\n      <td>No</td>\n      <td>2008</td>\n      <td>12</td>\n      <td>2</td>\n    </tr>\n    <tr>\n      <th>2</th>\n      <td>Albury</td>\n      <td>12.9</td>\n      <td>25.7</td>\n      <td>0.0</td>\n      <td>NaN</td>\n      <td>NaN</td>\n      <td>WSW</td>\n      <td>46.0</td>\n      <td>W</td>\n      <td>WSW</td>\n      <td>...</td>\n      <td>1008.7</td>\n      <td>NaN</td>\n      <td>2.0</td>\n      <td>21.0</td>\n      <td>23.2</td>\n      <td>No</td>\n      <td>No</td>\n      <td>2008</td>\n      <td>12</td>\n      <td>3</td>\n    </tr>\n    <tr>\n      <th>3</th>\n      <td>Albury</td>\n      <td>9.2</td>\n      <td>28.0</td>\n      <td>0.0</td>\n      <td>NaN</td>\n      <td>NaN</td>\n      <td>NE</td>\n      <td>24.0</td>\n      <td>SE</td>\n      <td>E</td>\n      <td>...</td>\n      <td>1012.8</td>\n      <td>NaN</td>\n      <td>NaN</td>\n      <td>18.1</td>\n      <td>26.5</td>\n      <td>No</td>\n      <td>No</td>\n      <td>2008</td>\n      <td>12</td>\n      <td>4</td>\n    </tr>\n    <tr>\n      <th>4</th>\n      <td>Albury</td>\n      <td>17.5</td>\n      <td>32.3</td>\n      <td>1.0</td>\n      <td>NaN</td>\n      <td>NaN</td>\n      <td>W</td>\n      <td>41.0</td>\n      <td>ENE</td>\n      <td>NW</td>\n      <td>...</td>\n      <td>1006.0</td>\n      <td>7.0</td>\n      <td>8.0</td>\n      <td>17.8</td>\n      <td>29.7</td>\n      <td>No</td>\n      <td>No</td>\n      <td>2008</td>\n      <td>12</td>\n      <td>5</td>\n    </tr>\n  </tbody>\n</table>\n<p>5 rows × 25 columns</p>\n</div>"
     },
     "execution_count": 136,
     "metadata": {},
     "output_type": "execute_result"
    }
   ],
   "source": [
    "# Drop the original Date feature from the dateset\n",
    "df.drop('Date', axis=1, inplace=True)\n",
    "df.head()"
   ],
   "metadata": {
    "collapsed": false
   }
  },
  {
   "cell_type": "code",
   "execution_count": 137,
   "outputs": [
    {
     "data": {
      "text/plain": "Location             0\nMinTemp           1485\nMaxTemp           1261\nRainfall          3261\nEvaporation      62790\nSunshine         69835\nWindGustDir      10326\nWindGustSpeed    10263\nWindDir9am       10566\nWindDir3pm        4228\nWindSpeed9am      1767\nWindSpeed3pm      3062\nHumidity9am       2654\nHumidity3pm       4507\nPressure9am      15065\nPressure3pm      15028\nCloud9am         55888\nCloud3pm         59358\nTemp9am           1767\nTemp3pm           3609\nRainToday         3261\nRainTomorrow      3267\nYear                 0\nMonth                0\nDay                  0\ndtype: int64"
     },
     "execution_count": 137,
     "metadata": {},
     "output_type": "execute_result"
    }
   ],
   "source": [
    "df.isna().sum()"
   ],
   "metadata": {
    "collapsed": false
   }
  },
  {
   "cell_type": "code",
   "execution_count": 140,
   "outputs": [
    {
     "data": {
      "text/plain": "Location         0\nMinTemp          0\nMaxTemp          0\nRainfall         0\nEvaporation      0\nSunshine         0\nWindGustDir      0\nWindGustSpeed    0\nWindDir9am       0\nWindDir3pm       0\nWindSpeed9am     0\nWindSpeed3pm     0\nHumidity9am      0\nHumidity3pm      0\nPressure9am      0\nPressure3pm      0\nCloud9am         0\nCloud3pm         0\nTemp9am          0\nTemp3pm          0\nRainToday        0\nRainTomorrow     0\nYear             0\nMonth            0\nDay              0\ndtype: int64"
     },
     "execution_count": 140,
     "metadata": {},
     "output_type": "execute_result"
    }
   ],
   "source": [
    "df_dropped_na = df.dropna()\n",
    "df_dropped_na.isna().sum()"
   ],
   "metadata": {
    "collapsed": false
   }
  },
  {
   "cell_type": "markdown",
   "source": [
    "# 8. Declare feature vector and target variable"
   ],
   "metadata": {
    "collapsed": false
   }
  },
  {
   "cell_type": "code",
   "execution_count": 141,
   "outputs": [],
   "source": [
    "X = df_dropped_na.drop(['RainTomorrow'], axis=1)\n",
    "y = df_dropped_na['RainTomorrow']"
   ],
   "metadata": {
    "collapsed": false
   }
  },
  {
   "cell_type": "markdown",
   "source": [
    "# 9. Split data into seperate training and test set"
   ],
   "metadata": {
    "collapsed": false
   }
  },
  {
   "cell_type": "code",
   "execution_count": 142,
   "outputs": [],
   "source": [
    "from sklearn.model_selection import train_test_split\n",
    "X_train, X_test, y_train, y_test = train_test_split(X, y, test_size=0.2, random_state=0)"
   ],
   "metadata": {
    "collapsed": false
   }
  },
  {
   "cell_type": "code",
   "execution_count": 143,
   "outputs": [
    {
     "data": {
      "text/plain": "((45136, 24), (11284, 24))"
     },
     "execution_count": 143,
     "metadata": {},
     "output_type": "execute_result"
    }
   ],
   "source": [
    "X_train.shape, X_test.shape"
   ],
   "metadata": {
    "collapsed": false
   }
  },
  {
   "cell_type": "markdown",
   "source": [
    "# 10. Feature Engineering"
   ],
   "metadata": {
    "collapsed": false
   }
  },
  {
   "cell_type": "code",
   "execution_count": 144,
   "outputs": [
    {
     "data": {
      "text/plain": "['Location', 'WindGustDir', 'WindDir9am', 'WindDir3pm', 'RainToday']"
     },
     "execution_count": 144,
     "metadata": {},
     "output_type": "execute_result"
    }
   ],
   "source": [
    "# display categorical variables\n",
    "categorical = [col for col in X_train.columns if X_train[col].dtypes == 'O']\n",
    "categorical"
   ],
   "metadata": {
    "collapsed": false
   }
  },
  {
   "cell_type": "code",
   "execution_count": 145,
   "outputs": [
    {
     "data": {
      "text/plain": "['MinTemp',\n 'MaxTemp',\n 'Rainfall',\n 'Evaporation',\n 'Sunshine',\n 'WindGustSpeed',\n 'WindSpeed9am',\n 'WindSpeed3pm',\n 'Humidity9am',\n 'Humidity3pm',\n 'Pressure9am',\n 'Pressure3pm',\n 'Cloud9am',\n 'Cloud3pm',\n 'Temp9am',\n 'Temp3pm',\n 'Year',\n 'Month',\n 'Day']"
     },
     "execution_count": 145,
     "metadata": {},
     "output_type": "execute_result"
    }
   ],
   "source": [
    "# display numerical variables\n",
    "numerical = [col for col in X_train.columns if X_train[col].dtypes != 'O']\n",
    "numerical"
   ],
   "metadata": {
    "collapsed": false
   }
  },
  {
   "cell_type": "code",
   "execution_count": 146,
   "outputs": [
    {
     "data": {
      "text/plain": "MinTemp          0\nMaxTemp          0\nRainfall         0\nEvaporation      0\nSunshine         0\nWindGustSpeed    0\nWindSpeed9am     0\nWindSpeed3pm     0\nHumidity9am      0\nHumidity3pm      0\nPressure9am      0\nPressure3pm      0\nCloud9am         0\nCloud3pm         0\nTemp9am          0\nTemp3pm          0\nYear             0\nMonth            0\nDay              0\ndtype: int64"
     },
     "execution_count": 146,
     "metadata": {},
     "output_type": "execute_result"
    }
   ],
   "source": [
    "X_train[numerical].isnull().sum()"
   ],
   "metadata": {
    "collapsed": false
   }
  },
  {
   "cell_type": "code",
   "execution_count": 147,
   "outputs": [
    {
     "data": {
      "text/plain": "MinTemp          0\nMaxTemp          0\nRainfall         0\nEvaporation      0\nSunshine         0\nWindGustSpeed    0\nWindSpeed9am     0\nWindSpeed3pm     0\nHumidity9am      0\nHumidity3pm      0\nPressure9am      0\nPressure3pm      0\nCloud9am         0\nCloud3pm         0\nTemp9am          0\nTemp3pm          0\nYear             0\nMonth            0\nDay              0\ndtype: int64"
     },
     "execution_count": 147,
     "metadata": {},
     "output_type": "execute_result"
    }
   ],
   "source": [
    "X_test[numerical].isnull().sum()"
   ],
   "metadata": {
    "collapsed": false
   }
  },
  {
   "cell_type": "code",
   "execution_count": 148,
   "outputs": [],
   "source": [
    "# print percentage of missing values in the numerical variables in training set\n",
    "for col in numerical:\n",
    "    if X_train[col].isnull().mean()>0:\n",
    "        print(col, round(X_train[col].isnull().mean(),2))"
   ],
   "metadata": {
    "collapsed": false
   }
  },
  {
   "cell_type": "code",
   "execution_count": 150,
   "outputs": [],
   "source": [
    "## Engineering outliers in numerical variables\n",
    "def max_value(df3, variable, top):\n",
    "    return np.where(df3[variable]>top, top, df3[variable])\n",
    "\n",
    "for df3 in [X_train, X_test]:\n",
    "    df3['Rainfall'] = max_value(df3, 'Rainfall', 3.2)\n",
    "    df3['Evaporation'] = max_value(df3, 'Evaporation', 21.8)\n",
    "    df3['WindSpeed9am'] = max_value(df3, 'WindSpeed9am', 55)\n",
    "    df3['WindSpeed3pm'] = max_value(df3, 'WindSpeed3pm', 57)"
   ],
   "metadata": {
    "collapsed": false
   }
  },
  {
   "cell_type": "code",
   "execution_count": 151,
   "outputs": [
    {
     "data": {
      "text/plain": "            MinTemp       MaxTemp      Rainfall   Evaporation      Sunshine  \\\ncount  45136.000000  45136.000000  45136.000000  45136.000000  45136.000000   \nmean      13.460666     24.207005      0.671830      5.469242      7.729458   \nstd        6.411206      6.976391      1.179652      3.508103      3.756245   \nmin       -6.700000      4.100000      0.000000      0.000000      0.000000   \n25%        8.600000     18.700000      0.000000      2.800000      5.000000   \n50%       13.200000     23.900000      0.000000      5.000000      8.600000   \n75%       18.400000     29.700000      0.600000      7.400000     10.700000   \nmax       30.500000     47.300000      3.200000     21.800000     14.500000   \n\n       WindGustSpeed  WindSpeed9am  WindSpeed3pm   Humidity9am   Humidity3pm  \\\ncount   45136.000000  45136.000000  45136.000000  45136.000000  45136.000000   \nmean       40.886255     15.679170     19.800315     65.894364     49.626817   \nstd        13.359252      8.303351      8.508927     18.529637     20.192611   \nmin         9.000000      2.000000      2.000000      0.000000      0.000000   \n25%        31.000000      9.000000     13.000000     55.000000     36.000000   \n50%        39.000000     15.000000     19.000000     67.000000     50.000000   \n75%        48.000000     20.000000     26.000000     79.000000     63.000000   \nmax       124.000000     55.000000     57.000000    100.000000    100.000000   \n\n        Pressure9am   Pressure3pm      Cloud9am      Cloud3pm       Temp9am  \\\ncount  45136.000000  45136.000000  45136.000000  45136.000000  45136.000000   \nmean    1017.255780   1014.810008      4.238191      4.320188     18.198755   \nstd        6.907346      6.871586      2.799524      2.648562      6.572731   \nmin      980.500000    977.100000      0.000000      0.000000     -0.700000   \n25%     1012.700000   1010.100000      1.000000      2.000000     13.100000   \n50%     1017.200000   1014.700000      5.000000      5.000000     17.800000   \n75%     1021.800000   1019.400000      7.000000      7.000000     23.300000   \nmax     1040.400000   1038.900000      8.000000      8.000000     39.400000   \n\n            Temp3pm          Year         Month           Day  \ncount  45136.000000  45136.000000  45136.000000  45136.000000  \nmean      22.699118   2012.222948      6.420042     15.754475  \nstd        6.840171      2.449089      3.444068      8.774371  \nmin        3.700000   2007.000000      1.000000      1.000000  \n25%       17.300000   2010.000000      3.000000      8.000000  \n50%       22.400000   2012.000000      6.000000     16.000000  \n75%       27.900000   2014.000000      9.000000     23.000000  \nmax       46.100000   2017.000000     12.000000     31.000000  ",
      "text/html": "<div>\n<style scoped>\n    .dataframe tbody tr th:only-of-type {\n        vertical-align: middle;\n    }\n\n    .dataframe tbody tr th {\n        vertical-align: top;\n    }\n\n    .dataframe thead th {\n        text-align: right;\n    }\n</style>\n<table border=\"1\" class=\"dataframe\">\n  <thead>\n    <tr style=\"text-align: right;\">\n      <th></th>\n      <th>MinTemp</th>\n      <th>MaxTemp</th>\n      <th>Rainfall</th>\n      <th>Evaporation</th>\n      <th>Sunshine</th>\n      <th>WindGustSpeed</th>\n      <th>WindSpeed9am</th>\n      <th>WindSpeed3pm</th>\n      <th>Humidity9am</th>\n      <th>Humidity3pm</th>\n      <th>Pressure9am</th>\n      <th>Pressure3pm</th>\n      <th>Cloud9am</th>\n      <th>Cloud3pm</th>\n      <th>Temp9am</th>\n      <th>Temp3pm</th>\n      <th>Year</th>\n      <th>Month</th>\n      <th>Day</th>\n    </tr>\n  </thead>\n  <tbody>\n    <tr>\n      <th>count</th>\n      <td>45136.000000</td>\n      <td>45136.000000</td>\n      <td>45136.000000</td>\n      <td>45136.000000</td>\n      <td>45136.000000</td>\n      <td>45136.000000</td>\n      <td>45136.000000</td>\n      <td>45136.000000</td>\n      <td>45136.000000</td>\n      <td>45136.000000</td>\n      <td>45136.000000</td>\n      <td>45136.000000</td>\n      <td>45136.000000</td>\n      <td>45136.000000</td>\n      <td>45136.000000</td>\n      <td>45136.000000</td>\n      <td>45136.000000</td>\n      <td>45136.000000</td>\n      <td>45136.000000</td>\n    </tr>\n    <tr>\n      <th>mean</th>\n      <td>13.460666</td>\n      <td>24.207005</td>\n      <td>0.671830</td>\n      <td>5.469242</td>\n      <td>7.729458</td>\n      <td>40.886255</td>\n      <td>15.679170</td>\n      <td>19.800315</td>\n      <td>65.894364</td>\n      <td>49.626817</td>\n      <td>1017.255780</td>\n      <td>1014.810008</td>\n      <td>4.238191</td>\n      <td>4.320188</td>\n      <td>18.198755</td>\n      <td>22.699118</td>\n      <td>2012.222948</td>\n      <td>6.420042</td>\n      <td>15.754475</td>\n    </tr>\n    <tr>\n      <th>std</th>\n      <td>6.411206</td>\n      <td>6.976391</td>\n      <td>1.179652</td>\n      <td>3.508103</td>\n      <td>3.756245</td>\n      <td>13.359252</td>\n      <td>8.303351</td>\n      <td>8.508927</td>\n      <td>18.529637</td>\n      <td>20.192611</td>\n      <td>6.907346</td>\n      <td>6.871586</td>\n      <td>2.799524</td>\n      <td>2.648562</td>\n      <td>6.572731</td>\n      <td>6.840171</td>\n      <td>2.449089</td>\n      <td>3.444068</td>\n      <td>8.774371</td>\n    </tr>\n    <tr>\n      <th>min</th>\n      <td>-6.700000</td>\n      <td>4.100000</td>\n      <td>0.000000</td>\n      <td>0.000000</td>\n      <td>0.000000</td>\n      <td>9.000000</td>\n      <td>2.000000</td>\n      <td>2.000000</td>\n      <td>0.000000</td>\n      <td>0.000000</td>\n      <td>980.500000</td>\n      <td>977.100000</td>\n      <td>0.000000</td>\n      <td>0.000000</td>\n      <td>-0.700000</td>\n      <td>3.700000</td>\n      <td>2007.000000</td>\n      <td>1.000000</td>\n      <td>1.000000</td>\n    </tr>\n    <tr>\n      <th>25%</th>\n      <td>8.600000</td>\n      <td>18.700000</td>\n      <td>0.000000</td>\n      <td>2.800000</td>\n      <td>5.000000</td>\n      <td>31.000000</td>\n      <td>9.000000</td>\n      <td>13.000000</td>\n      <td>55.000000</td>\n      <td>36.000000</td>\n      <td>1012.700000</td>\n      <td>1010.100000</td>\n      <td>1.000000</td>\n      <td>2.000000</td>\n      <td>13.100000</td>\n      <td>17.300000</td>\n      <td>2010.000000</td>\n      <td>3.000000</td>\n      <td>8.000000</td>\n    </tr>\n    <tr>\n      <th>50%</th>\n      <td>13.200000</td>\n      <td>23.900000</td>\n      <td>0.000000</td>\n      <td>5.000000</td>\n      <td>8.600000</td>\n      <td>39.000000</td>\n      <td>15.000000</td>\n      <td>19.000000</td>\n      <td>67.000000</td>\n      <td>50.000000</td>\n      <td>1017.200000</td>\n      <td>1014.700000</td>\n      <td>5.000000</td>\n      <td>5.000000</td>\n      <td>17.800000</td>\n      <td>22.400000</td>\n      <td>2012.000000</td>\n      <td>6.000000</td>\n      <td>16.000000</td>\n    </tr>\n    <tr>\n      <th>75%</th>\n      <td>18.400000</td>\n      <td>29.700000</td>\n      <td>0.600000</td>\n      <td>7.400000</td>\n      <td>10.700000</td>\n      <td>48.000000</td>\n      <td>20.000000</td>\n      <td>26.000000</td>\n      <td>79.000000</td>\n      <td>63.000000</td>\n      <td>1021.800000</td>\n      <td>1019.400000</td>\n      <td>7.000000</td>\n      <td>7.000000</td>\n      <td>23.300000</td>\n      <td>27.900000</td>\n      <td>2014.000000</td>\n      <td>9.000000</td>\n      <td>23.000000</td>\n    </tr>\n    <tr>\n      <th>max</th>\n      <td>30.500000</td>\n      <td>47.300000</td>\n      <td>3.200000</td>\n      <td>21.800000</td>\n      <td>14.500000</td>\n      <td>124.000000</td>\n      <td>55.000000</td>\n      <td>57.000000</td>\n      <td>100.000000</td>\n      <td>100.000000</td>\n      <td>1040.400000</td>\n      <td>1038.900000</td>\n      <td>8.000000</td>\n      <td>8.000000</td>\n      <td>39.400000</td>\n      <td>46.100000</td>\n      <td>2017.000000</td>\n      <td>12.000000</td>\n      <td>31.000000</td>\n    </tr>\n  </tbody>\n</table>\n</div>"
     },
     "execution_count": 151,
     "metadata": {},
     "output_type": "execute_result"
    }
   ],
   "source": [
    "X_train[numerical].describe()"
   ],
   "metadata": {
    "collapsed": false
   }
  },
  {
   "cell_type": "markdown",
   "source": [
    "## Encode Categorical Variables"
   ],
   "metadata": {
    "collapsed": false
   }
  },
  {
   "cell_type": "code",
   "execution_count": 152,
   "outputs": [
    {
     "data": {
      "text/plain": "             Location WindGustDir WindDir9am WindDir3pm RainToday\n40249     Williamtown         SSW          S        SSE        No\n23214   NorfolkIsland         ENE          E          E        No\n106053        Woomera           S        ENE        WSW        No\n36089   SydneyAirport         SSW         SE          S       Yes\n22756   NorfolkIsland         SSE        ESE         SE        No",
      "text/html": "<div>\n<style scoped>\n    .dataframe tbody tr th:only-of-type {\n        vertical-align: middle;\n    }\n\n    .dataframe tbody tr th {\n        vertical-align: top;\n    }\n\n    .dataframe thead th {\n        text-align: right;\n    }\n</style>\n<table border=\"1\" class=\"dataframe\">\n  <thead>\n    <tr style=\"text-align: right;\">\n      <th></th>\n      <th>Location</th>\n      <th>WindGustDir</th>\n      <th>WindDir9am</th>\n      <th>WindDir3pm</th>\n      <th>RainToday</th>\n    </tr>\n  </thead>\n  <tbody>\n    <tr>\n      <th>40249</th>\n      <td>Williamtown</td>\n      <td>SSW</td>\n      <td>S</td>\n      <td>SSE</td>\n      <td>No</td>\n    </tr>\n    <tr>\n      <th>23214</th>\n      <td>NorfolkIsland</td>\n      <td>ENE</td>\n      <td>E</td>\n      <td>E</td>\n      <td>No</td>\n    </tr>\n    <tr>\n      <th>106053</th>\n      <td>Woomera</td>\n      <td>S</td>\n      <td>ENE</td>\n      <td>WSW</td>\n      <td>No</td>\n    </tr>\n    <tr>\n      <th>36089</th>\n      <td>SydneyAirport</td>\n      <td>SSW</td>\n      <td>SE</td>\n      <td>S</td>\n      <td>Yes</td>\n    </tr>\n    <tr>\n      <th>22756</th>\n      <td>NorfolkIsland</td>\n      <td>SSE</td>\n      <td>ESE</td>\n      <td>SE</td>\n      <td>No</td>\n    </tr>\n  </tbody>\n</table>\n</div>"
     },
     "execution_count": 152,
     "metadata": {},
     "output_type": "execute_result"
    }
   ],
   "source": [
    "X_train[categorical].head()"
   ],
   "metadata": {
    "collapsed": false
   }
  },
  {
   "cell_type": "code",
   "execution_count": 153,
   "outputs": [],
   "source": [
    "# encode RainToday variable\n",
    "\n",
    "import category_encoders as ce\n",
    "\n",
    "encoder = ce.BinaryEncoder(cols=['RainToday'])\n",
    "\n",
    "X_train = encoder.fit_transform(X_train)\n",
    "\n",
    "X_test = encoder.transform(X_test)"
   ],
   "metadata": {
    "collapsed": false
   }
  },
  {
   "cell_type": "code",
   "execution_count": 154,
   "outputs": [
    {
     "data": {
      "text/plain": "             Location  MinTemp  MaxTemp  Rainfall  Evaporation  Sunshine  \\\n40249     Williamtown     17.5     26.2       0.0         12.0      13.0   \n23214   NorfolkIsland     20.6     25.2       0.0          6.0      11.2   \n106053        Woomera      9.4     22.0       0.0          3.2      10.6   \n36089   SydneyAirport     17.8     21.5       3.2          5.6       5.7   \n22756   NorfolkIsland     14.7     18.7       0.0          4.2       0.0   \n\n       WindGustDir  WindGustSpeed WindDir9am WindDir3pm  ...  Pressure3pm  \\\n40249          SSW           39.0          S        SSE  ...       1012.5   \n23214          ENE           50.0          E          E  ...       1015.9   \n106053           S           28.0        ENE        WSW  ...       1022.5   \n36089          SSW           41.0         SE          S  ...       1021.8   \n22756          SSE           50.0        ESE         SE  ...       1011.5   \n\n        Cloud9am  Cloud3pm  Temp9am  Temp3pm  RainToday_0  RainToday_1  Year  \\\n40249        2.0       1.0     23.4     24.5            0            1  2010   \n23214        5.0       6.0     23.4     23.8            0            1  2014   \n106053       1.0       1.0     15.9     21.7            0            1  2010   \n36089        7.0       5.0     20.0     20.1            1            0  2016   \n22756        7.0       8.0     17.8     17.1            0            1  2013   \n\n        Month  Day  \n40249      12   13  \n23214      12   25  \n106053      5    7  \n36089       4   12  \n22756       9   23  \n\n[5 rows x 25 columns]",
      "text/html": "<div>\n<style scoped>\n    .dataframe tbody tr th:only-of-type {\n        vertical-align: middle;\n    }\n\n    .dataframe tbody tr th {\n        vertical-align: top;\n    }\n\n    .dataframe thead th {\n        text-align: right;\n    }\n</style>\n<table border=\"1\" class=\"dataframe\">\n  <thead>\n    <tr style=\"text-align: right;\">\n      <th></th>\n      <th>Location</th>\n      <th>MinTemp</th>\n      <th>MaxTemp</th>\n      <th>Rainfall</th>\n      <th>Evaporation</th>\n      <th>Sunshine</th>\n      <th>WindGustDir</th>\n      <th>WindGustSpeed</th>\n      <th>WindDir9am</th>\n      <th>WindDir3pm</th>\n      <th>...</th>\n      <th>Pressure3pm</th>\n      <th>Cloud9am</th>\n      <th>Cloud3pm</th>\n      <th>Temp9am</th>\n      <th>Temp3pm</th>\n      <th>RainToday_0</th>\n      <th>RainToday_1</th>\n      <th>Year</th>\n      <th>Month</th>\n      <th>Day</th>\n    </tr>\n  </thead>\n  <tbody>\n    <tr>\n      <th>40249</th>\n      <td>Williamtown</td>\n      <td>17.5</td>\n      <td>26.2</td>\n      <td>0.0</td>\n      <td>12.0</td>\n      <td>13.0</td>\n      <td>SSW</td>\n      <td>39.0</td>\n      <td>S</td>\n      <td>SSE</td>\n      <td>...</td>\n      <td>1012.5</td>\n      <td>2.0</td>\n      <td>1.0</td>\n      <td>23.4</td>\n      <td>24.5</td>\n      <td>0</td>\n      <td>1</td>\n      <td>2010</td>\n      <td>12</td>\n      <td>13</td>\n    </tr>\n    <tr>\n      <th>23214</th>\n      <td>NorfolkIsland</td>\n      <td>20.6</td>\n      <td>25.2</td>\n      <td>0.0</td>\n      <td>6.0</td>\n      <td>11.2</td>\n      <td>ENE</td>\n      <td>50.0</td>\n      <td>E</td>\n      <td>E</td>\n      <td>...</td>\n      <td>1015.9</td>\n      <td>5.0</td>\n      <td>6.0</td>\n      <td>23.4</td>\n      <td>23.8</td>\n      <td>0</td>\n      <td>1</td>\n      <td>2014</td>\n      <td>12</td>\n      <td>25</td>\n    </tr>\n    <tr>\n      <th>106053</th>\n      <td>Woomera</td>\n      <td>9.4</td>\n      <td>22.0</td>\n      <td>0.0</td>\n      <td>3.2</td>\n      <td>10.6</td>\n      <td>S</td>\n      <td>28.0</td>\n      <td>ENE</td>\n      <td>WSW</td>\n      <td>...</td>\n      <td>1022.5</td>\n      <td>1.0</td>\n      <td>1.0</td>\n      <td>15.9</td>\n      <td>21.7</td>\n      <td>0</td>\n      <td>1</td>\n      <td>2010</td>\n      <td>5</td>\n      <td>7</td>\n    </tr>\n    <tr>\n      <th>36089</th>\n      <td>SydneyAirport</td>\n      <td>17.8</td>\n      <td>21.5</td>\n      <td>3.2</td>\n      <td>5.6</td>\n      <td>5.7</td>\n      <td>SSW</td>\n      <td>41.0</td>\n      <td>SE</td>\n      <td>S</td>\n      <td>...</td>\n      <td>1021.8</td>\n      <td>7.0</td>\n      <td>5.0</td>\n      <td>20.0</td>\n      <td>20.1</td>\n      <td>1</td>\n      <td>0</td>\n      <td>2016</td>\n      <td>4</td>\n      <td>12</td>\n    </tr>\n    <tr>\n      <th>22756</th>\n      <td>NorfolkIsland</td>\n      <td>14.7</td>\n      <td>18.7</td>\n      <td>0.0</td>\n      <td>4.2</td>\n      <td>0.0</td>\n      <td>SSE</td>\n      <td>50.0</td>\n      <td>ESE</td>\n      <td>SE</td>\n      <td>...</td>\n      <td>1011.5</td>\n      <td>7.0</td>\n      <td>8.0</td>\n      <td>17.8</td>\n      <td>17.1</td>\n      <td>0</td>\n      <td>1</td>\n      <td>2013</td>\n      <td>9</td>\n      <td>23</td>\n    </tr>\n  </tbody>\n</table>\n<p>5 rows × 25 columns</p>\n</div>"
     },
     "execution_count": 154,
     "metadata": {},
     "output_type": "execute_result"
    }
   ],
   "source": [
    "X_train.head()"
   ],
   "metadata": {
    "collapsed": false
   }
  },
  {
   "cell_type": "markdown",
   "source": [
    "Create the X_Train dataset"
   ],
   "metadata": {
    "collapsed": false
   }
  },
  {
   "cell_type": "code",
   "execution_count": 155,
   "outputs": [],
   "source": [
    "X_train = pd.concat([X_train[numerical], X_train[['RainToday_0', 'RainToday_1']],\n",
    "                     pd.get_dummies(X_train.Location),\n",
    "                     pd.get_dummies(X_train.WindGustDir),\n",
    "                     pd.get_dummies(X_train.WindDir9am),\n",
    "                     pd.get_dummies(X_train.WindDir3pm)], axis=1)"
   ],
   "metadata": {
    "collapsed": false
   }
  },
  {
   "cell_type": "code",
   "execution_count": 156,
   "outputs": [
    {
     "data": {
      "text/plain": "        MinTemp  MaxTemp  Rainfall  Evaporation  Sunshine  WindGustSpeed  \\\n40249      17.5     26.2       0.0         12.0      13.0           39.0   \n23214      20.6     25.2       0.0          6.0      11.2           50.0   \n106053      9.4     22.0       0.0          3.2      10.6           28.0   \n36089      17.8     21.5       3.2          5.6       5.7           41.0   \n22756      14.7     18.7       0.0          4.2       0.0           50.0   \n\n        WindSpeed9am  WindSpeed3pm  Humidity9am  Humidity3pm  ...  NNW  NW  S  \\\n40249           30.0          28.0         65.0         61.0  ...    0   0  0   \n23214           26.0          33.0         76.0         72.0  ...    0   0  0   \n106053           4.0           7.0         55.0         36.0  ...    0   0  0   \n36089           19.0          28.0         72.0         71.0  ...    0   0  1   \n22756           22.0          24.0         77.0         76.0  ...    0   0  0   \n\n        SE  SSE  SSW  SW  W  WNW  WSW  \n40249    0    1    0   0  0    0    0  \n23214    0    0    0   0  0    0    0  \n106053   0    0    0   0  0    0    1  \n36089    0    0    0   0  0    0    0  \n22756    1    0    0   0  0    0    0  \n\n[5 rows x 95 columns]",
      "text/html": "<div>\n<style scoped>\n    .dataframe tbody tr th:only-of-type {\n        vertical-align: middle;\n    }\n\n    .dataframe tbody tr th {\n        vertical-align: top;\n    }\n\n    .dataframe thead th {\n        text-align: right;\n    }\n</style>\n<table border=\"1\" class=\"dataframe\">\n  <thead>\n    <tr style=\"text-align: right;\">\n      <th></th>\n      <th>MinTemp</th>\n      <th>MaxTemp</th>\n      <th>Rainfall</th>\n      <th>Evaporation</th>\n      <th>Sunshine</th>\n      <th>WindGustSpeed</th>\n      <th>WindSpeed9am</th>\n      <th>WindSpeed3pm</th>\n      <th>Humidity9am</th>\n      <th>Humidity3pm</th>\n      <th>...</th>\n      <th>NNW</th>\n      <th>NW</th>\n      <th>S</th>\n      <th>SE</th>\n      <th>SSE</th>\n      <th>SSW</th>\n      <th>SW</th>\n      <th>W</th>\n      <th>WNW</th>\n      <th>WSW</th>\n    </tr>\n  </thead>\n  <tbody>\n    <tr>\n      <th>40249</th>\n      <td>17.5</td>\n      <td>26.2</td>\n      <td>0.0</td>\n      <td>12.0</td>\n      <td>13.0</td>\n      <td>39.0</td>\n      <td>30.0</td>\n      <td>28.0</td>\n      <td>65.0</td>\n      <td>61.0</td>\n      <td>...</td>\n      <td>0</td>\n      <td>0</td>\n      <td>0</td>\n      <td>0</td>\n      <td>1</td>\n      <td>0</td>\n      <td>0</td>\n      <td>0</td>\n      <td>0</td>\n      <td>0</td>\n    </tr>\n    <tr>\n      <th>23214</th>\n      <td>20.6</td>\n      <td>25.2</td>\n      <td>0.0</td>\n      <td>6.0</td>\n      <td>11.2</td>\n      <td>50.0</td>\n      <td>26.0</td>\n      <td>33.0</td>\n      <td>76.0</td>\n      <td>72.0</td>\n      <td>...</td>\n      <td>0</td>\n      <td>0</td>\n      <td>0</td>\n      <td>0</td>\n      <td>0</td>\n      <td>0</td>\n      <td>0</td>\n      <td>0</td>\n      <td>0</td>\n      <td>0</td>\n    </tr>\n    <tr>\n      <th>106053</th>\n      <td>9.4</td>\n      <td>22.0</td>\n      <td>0.0</td>\n      <td>3.2</td>\n      <td>10.6</td>\n      <td>28.0</td>\n      <td>4.0</td>\n      <td>7.0</td>\n      <td>55.0</td>\n      <td>36.0</td>\n      <td>...</td>\n      <td>0</td>\n      <td>0</td>\n      <td>0</td>\n      <td>0</td>\n      <td>0</td>\n      <td>0</td>\n      <td>0</td>\n      <td>0</td>\n      <td>0</td>\n      <td>1</td>\n    </tr>\n    <tr>\n      <th>36089</th>\n      <td>17.8</td>\n      <td>21.5</td>\n      <td>3.2</td>\n      <td>5.6</td>\n      <td>5.7</td>\n      <td>41.0</td>\n      <td>19.0</td>\n      <td>28.0</td>\n      <td>72.0</td>\n      <td>71.0</td>\n      <td>...</td>\n      <td>0</td>\n      <td>0</td>\n      <td>1</td>\n      <td>0</td>\n      <td>0</td>\n      <td>0</td>\n      <td>0</td>\n      <td>0</td>\n      <td>0</td>\n      <td>0</td>\n    </tr>\n    <tr>\n      <th>22756</th>\n      <td>14.7</td>\n      <td>18.7</td>\n      <td>0.0</td>\n      <td>4.2</td>\n      <td>0.0</td>\n      <td>50.0</td>\n      <td>22.0</td>\n      <td>24.0</td>\n      <td>77.0</td>\n      <td>76.0</td>\n      <td>...</td>\n      <td>0</td>\n      <td>0</td>\n      <td>0</td>\n      <td>1</td>\n      <td>0</td>\n      <td>0</td>\n      <td>0</td>\n      <td>0</td>\n      <td>0</td>\n      <td>0</td>\n    </tr>\n  </tbody>\n</table>\n<p>5 rows × 95 columns</p>\n</div>"
     },
     "execution_count": 156,
     "metadata": {},
     "output_type": "execute_result"
    }
   ],
   "source": [
    "X_train.head()"
   ],
   "metadata": {
    "collapsed": false
   }
  },
  {
   "cell_type": "code",
   "execution_count": 157,
   "outputs": [],
   "source": [
    "X_test = pd.concat([X_test[numerical], X_test[['RainToday_0', 'RainToday_1']],\n",
    "                    pd.get_dummies(X_test.Location),\n",
    "                    pd.get_dummies(X_test.WindGustDir),\n",
    "                    pd.get_dummies(X_test.WindDir9am),\n",
    "                    pd.get_dummies(X_test.WindDir3pm)], axis=1)"
   ],
   "metadata": {
    "collapsed": false
   }
  },
  {
   "cell_type": "code",
   "execution_count": 158,
   "outputs": [
    {
     "data": {
      "text/plain": "        MinTemp  MaxTemp  Rainfall  Evaporation  Sunshine  WindGustSpeed  \\\n103197      0.6     16.0       0.0          5.8      10.0           35.0   \n33303      19.7     28.4       0.0          7.4       6.0           35.0   \n136838     23.3     38.5       3.2         10.4      10.0           57.0   \n80964      10.8     19.7       0.0          5.2       4.8           35.0   \n34347       8.9     21.8       0.0          1.6      10.1           37.0   \n\n        WindSpeed9am  WindSpeed3pm  Humidity9am  Humidity3pm  ...  NNW  NW  S  \\\n103197          19.0          20.0         55.0         41.0  ...    0   0  0   \n33303           11.0          17.0         67.0         64.0  ...    0   0  0   \n136838          24.0           9.0         46.0         27.0  ...    0   0  0   \n80964           11.0          13.0         72.0         56.0  ...    0   0  0   \n34347           13.0           7.0         61.0         30.0  ...    1   0  0   \n\n        SE  SSE  SSW  SW  W  WNW  WSW  \n103197   0    0    0   0  0    0    1  \n33303    0    0    0   0  0    0    0  \n136838   1    0    0   0  0    0    0  \n80964    0    0    0   0  0    0    0  \n34347    0    0    0   0  0    0    0  \n\n[5 rows x 95 columns]",
      "text/html": "<div>\n<style scoped>\n    .dataframe tbody tr th:only-of-type {\n        vertical-align: middle;\n    }\n\n    .dataframe tbody tr th {\n        vertical-align: top;\n    }\n\n    .dataframe thead th {\n        text-align: right;\n    }\n</style>\n<table border=\"1\" class=\"dataframe\">\n  <thead>\n    <tr style=\"text-align: right;\">\n      <th></th>\n      <th>MinTemp</th>\n      <th>MaxTemp</th>\n      <th>Rainfall</th>\n      <th>Evaporation</th>\n      <th>Sunshine</th>\n      <th>WindGustSpeed</th>\n      <th>WindSpeed9am</th>\n      <th>WindSpeed3pm</th>\n      <th>Humidity9am</th>\n      <th>Humidity3pm</th>\n      <th>...</th>\n      <th>NNW</th>\n      <th>NW</th>\n      <th>S</th>\n      <th>SE</th>\n      <th>SSE</th>\n      <th>SSW</th>\n      <th>SW</th>\n      <th>W</th>\n      <th>WNW</th>\n      <th>WSW</th>\n    </tr>\n  </thead>\n  <tbody>\n    <tr>\n      <th>103197</th>\n      <td>0.6</td>\n      <td>16.0</td>\n      <td>0.0</td>\n      <td>5.8</td>\n      <td>10.0</td>\n      <td>35.0</td>\n      <td>19.0</td>\n      <td>20.0</td>\n      <td>55.0</td>\n      <td>41.0</td>\n      <td>...</td>\n      <td>0</td>\n      <td>0</td>\n      <td>0</td>\n      <td>0</td>\n      <td>0</td>\n      <td>0</td>\n      <td>0</td>\n      <td>0</td>\n      <td>0</td>\n      <td>1</td>\n    </tr>\n    <tr>\n      <th>33303</th>\n      <td>19.7</td>\n      <td>28.4</td>\n      <td>0.0</td>\n      <td>7.4</td>\n      <td>6.0</td>\n      <td>35.0</td>\n      <td>11.0</td>\n      <td>17.0</td>\n      <td>67.0</td>\n      <td>64.0</td>\n      <td>...</td>\n      <td>0</td>\n      <td>0</td>\n      <td>0</td>\n      <td>0</td>\n      <td>0</td>\n      <td>0</td>\n      <td>0</td>\n      <td>0</td>\n      <td>0</td>\n      <td>0</td>\n    </tr>\n    <tr>\n      <th>136838</th>\n      <td>23.3</td>\n      <td>38.5</td>\n      <td>3.2</td>\n      <td>10.4</td>\n      <td>10.0</td>\n      <td>57.0</td>\n      <td>24.0</td>\n      <td>9.0</td>\n      <td>46.0</td>\n      <td>27.0</td>\n      <td>...</td>\n      <td>0</td>\n      <td>0</td>\n      <td>0</td>\n      <td>1</td>\n      <td>0</td>\n      <td>0</td>\n      <td>0</td>\n      <td>0</td>\n      <td>0</td>\n      <td>0</td>\n    </tr>\n    <tr>\n      <th>80964</th>\n      <td>10.8</td>\n      <td>19.7</td>\n      <td>0.0</td>\n      <td>5.2</td>\n      <td>4.8</td>\n      <td>35.0</td>\n      <td>11.0</td>\n      <td>13.0</td>\n      <td>72.0</td>\n      <td>56.0</td>\n      <td>...</td>\n      <td>0</td>\n      <td>0</td>\n      <td>0</td>\n      <td>0</td>\n      <td>0</td>\n      <td>0</td>\n      <td>0</td>\n      <td>0</td>\n      <td>0</td>\n      <td>0</td>\n    </tr>\n    <tr>\n      <th>34347</th>\n      <td>8.9</td>\n      <td>21.8</td>\n      <td>0.0</td>\n      <td>1.6</td>\n      <td>10.1</td>\n      <td>37.0</td>\n      <td>13.0</td>\n      <td>7.0</td>\n      <td>61.0</td>\n      <td>30.0</td>\n      <td>...</td>\n      <td>1</td>\n      <td>0</td>\n      <td>0</td>\n      <td>0</td>\n      <td>0</td>\n      <td>0</td>\n      <td>0</td>\n      <td>0</td>\n      <td>0</td>\n      <td>0</td>\n    </tr>\n  </tbody>\n</table>\n<p>5 rows × 95 columns</p>\n</div>"
     },
     "execution_count": 158,
     "metadata": {},
     "output_type": "execute_result"
    }
   ],
   "source": [
    "X_test.head()"
   ],
   "metadata": {
    "collapsed": false
   }
  },
  {
   "cell_type": "markdown",
   "source": [
    "# 11. Feature Scaling"
   ],
   "metadata": {
    "collapsed": false
   }
  },
  {
   "cell_type": "code",
   "execution_count": 159,
   "outputs": [
    {
     "data": {
      "text/plain": "            MinTemp       MaxTemp      Rainfall   Evaporation      Sunshine  \\\ncount  45136.000000  45136.000000  45136.000000  45136.000000  45136.000000   \nmean      13.460666     24.207005      0.671830      5.469242      7.729458   \nstd        6.411206      6.976391      1.179652      3.508103      3.756245   \nmin       -6.700000      4.100000      0.000000      0.000000      0.000000   \n25%        8.600000     18.700000      0.000000      2.800000      5.000000   \n50%       13.200000     23.900000      0.000000      5.000000      8.600000   \n75%       18.400000     29.700000      0.600000      7.400000     10.700000   \nmax       30.500000     47.300000      3.200000     21.800000     14.500000   \n\n       WindGustSpeed  WindSpeed9am  WindSpeed3pm   Humidity9am   Humidity3pm  \\\ncount   45136.000000  45136.000000  45136.000000  45136.000000  45136.000000   \nmean       40.886255     15.679170     19.800315     65.894364     49.626817   \nstd        13.359252      8.303351      8.508927     18.529637     20.192611   \nmin         9.000000      2.000000      2.000000      0.000000      0.000000   \n25%        31.000000      9.000000     13.000000     55.000000     36.000000   \n50%        39.000000     15.000000     19.000000     67.000000     50.000000   \n75%        48.000000     20.000000     26.000000     79.000000     63.000000   \nmax       124.000000     55.000000     57.000000    100.000000    100.000000   \n\n       ...           NNW            NW             S            SE  \\\ncount  ...  45136.000000  45136.000000  45136.000000  45136.000000   \nmean   ...      0.048875      0.047567      0.072581      0.074708   \nstd    ...      0.215608      0.212851      0.259450      0.262922   \nmin    ...      0.000000      0.000000      0.000000      0.000000   \n25%    ...      0.000000      0.000000      0.000000      0.000000   \n50%    ...      0.000000      0.000000      0.000000      0.000000   \n75%    ...      0.000000      0.000000      0.000000      0.000000   \nmax    ...      1.000000      1.000000      1.000000      1.000000   \n\n               SSE           SSW            SW             W           WNW  \\\ncount  45136.00000  45136.000000  45136.000000  45136.000000  45136.000000   \nmean       0.05849      0.060971      0.071008      0.070498      0.056673   \nstd        0.23467      0.239280      0.256840      0.255987      0.231220   \nmin        0.00000      0.000000      0.000000      0.000000      0.000000   \n25%        0.00000      0.000000      0.000000      0.000000      0.000000   \n50%        0.00000      0.000000      0.000000      0.000000      0.000000   \n75%        0.00000      0.000000      0.000000      0.000000      0.000000   \nmax        1.00000      1.000000      1.000000      1.000000      1.000000   \n\n                WSW  \ncount  45136.000000  \nmean       0.068748  \nstd        0.253028  \nmin        0.000000  \n25%        0.000000  \n50%        0.000000  \n75%        0.000000  \nmax        1.000000  \n\n[8 rows x 95 columns]",
      "text/html": "<div>\n<style scoped>\n    .dataframe tbody tr th:only-of-type {\n        vertical-align: middle;\n    }\n\n    .dataframe tbody tr th {\n        vertical-align: top;\n    }\n\n    .dataframe thead th {\n        text-align: right;\n    }\n</style>\n<table border=\"1\" class=\"dataframe\">\n  <thead>\n    <tr style=\"text-align: right;\">\n      <th></th>\n      <th>MinTemp</th>\n      <th>MaxTemp</th>\n      <th>Rainfall</th>\n      <th>Evaporation</th>\n      <th>Sunshine</th>\n      <th>WindGustSpeed</th>\n      <th>WindSpeed9am</th>\n      <th>WindSpeed3pm</th>\n      <th>Humidity9am</th>\n      <th>Humidity3pm</th>\n      <th>...</th>\n      <th>NNW</th>\n      <th>NW</th>\n      <th>S</th>\n      <th>SE</th>\n      <th>SSE</th>\n      <th>SSW</th>\n      <th>SW</th>\n      <th>W</th>\n      <th>WNW</th>\n      <th>WSW</th>\n    </tr>\n  </thead>\n  <tbody>\n    <tr>\n      <th>count</th>\n      <td>45136.000000</td>\n      <td>45136.000000</td>\n      <td>45136.000000</td>\n      <td>45136.000000</td>\n      <td>45136.000000</td>\n      <td>45136.000000</td>\n      <td>45136.000000</td>\n      <td>45136.000000</td>\n      <td>45136.000000</td>\n      <td>45136.000000</td>\n      <td>...</td>\n      <td>45136.000000</td>\n      <td>45136.000000</td>\n      <td>45136.000000</td>\n      <td>45136.000000</td>\n      <td>45136.00000</td>\n      <td>45136.000000</td>\n      <td>45136.000000</td>\n      <td>45136.000000</td>\n      <td>45136.000000</td>\n      <td>45136.000000</td>\n    </tr>\n    <tr>\n      <th>mean</th>\n      <td>13.460666</td>\n      <td>24.207005</td>\n      <td>0.671830</td>\n      <td>5.469242</td>\n      <td>7.729458</td>\n      <td>40.886255</td>\n      <td>15.679170</td>\n      <td>19.800315</td>\n      <td>65.894364</td>\n      <td>49.626817</td>\n      <td>...</td>\n      <td>0.048875</td>\n      <td>0.047567</td>\n      <td>0.072581</td>\n      <td>0.074708</td>\n      <td>0.05849</td>\n      <td>0.060971</td>\n      <td>0.071008</td>\n      <td>0.070498</td>\n      <td>0.056673</td>\n      <td>0.068748</td>\n    </tr>\n    <tr>\n      <th>std</th>\n      <td>6.411206</td>\n      <td>6.976391</td>\n      <td>1.179652</td>\n      <td>3.508103</td>\n      <td>3.756245</td>\n      <td>13.359252</td>\n      <td>8.303351</td>\n      <td>8.508927</td>\n      <td>18.529637</td>\n      <td>20.192611</td>\n      <td>...</td>\n      <td>0.215608</td>\n      <td>0.212851</td>\n      <td>0.259450</td>\n      <td>0.262922</td>\n      <td>0.23467</td>\n      <td>0.239280</td>\n      <td>0.256840</td>\n      <td>0.255987</td>\n      <td>0.231220</td>\n      <td>0.253028</td>\n    </tr>\n    <tr>\n      <th>min</th>\n      <td>-6.700000</td>\n      <td>4.100000</td>\n      <td>0.000000</td>\n      <td>0.000000</td>\n      <td>0.000000</td>\n      <td>9.000000</td>\n      <td>2.000000</td>\n      <td>2.000000</td>\n      <td>0.000000</td>\n      <td>0.000000</td>\n      <td>...</td>\n      <td>0.000000</td>\n      <td>0.000000</td>\n      <td>0.000000</td>\n      <td>0.000000</td>\n      <td>0.00000</td>\n      <td>0.000000</td>\n      <td>0.000000</td>\n      <td>0.000000</td>\n      <td>0.000000</td>\n      <td>0.000000</td>\n    </tr>\n    <tr>\n      <th>25%</th>\n      <td>8.600000</td>\n      <td>18.700000</td>\n      <td>0.000000</td>\n      <td>2.800000</td>\n      <td>5.000000</td>\n      <td>31.000000</td>\n      <td>9.000000</td>\n      <td>13.000000</td>\n      <td>55.000000</td>\n      <td>36.000000</td>\n      <td>...</td>\n      <td>0.000000</td>\n      <td>0.000000</td>\n      <td>0.000000</td>\n      <td>0.000000</td>\n      <td>0.00000</td>\n      <td>0.000000</td>\n      <td>0.000000</td>\n      <td>0.000000</td>\n      <td>0.000000</td>\n      <td>0.000000</td>\n    </tr>\n    <tr>\n      <th>50%</th>\n      <td>13.200000</td>\n      <td>23.900000</td>\n      <td>0.000000</td>\n      <td>5.000000</td>\n      <td>8.600000</td>\n      <td>39.000000</td>\n      <td>15.000000</td>\n      <td>19.000000</td>\n      <td>67.000000</td>\n      <td>50.000000</td>\n      <td>...</td>\n      <td>0.000000</td>\n      <td>0.000000</td>\n      <td>0.000000</td>\n      <td>0.000000</td>\n      <td>0.00000</td>\n      <td>0.000000</td>\n      <td>0.000000</td>\n      <td>0.000000</td>\n      <td>0.000000</td>\n      <td>0.000000</td>\n    </tr>\n    <tr>\n      <th>75%</th>\n      <td>18.400000</td>\n      <td>29.700000</td>\n      <td>0.600000</td>\n      <td>7.400000</td>\n      <td>10.700000</td>\n      <td>48.000000</td>\n      <td>20.000000</td>\n      <td>26.000000</td>\n      <td>79.000000</td>\n      <td>63.000000</td>\n      <td>...</td>\n      <td>0.000000</td>\n      <td>0.000000</td>\n      <td>0.000000</td>\n      <td>0.000000</td>\n      <td>0.00000</td>\n      <td>0.000000</td>\n      <td>0.000000</td>\n      <td>0.000000</td>\n      <td>0.000000</td>\n      <td>0.000000</td>\n    </tr>\n    <tr>\n      <th>max</th>\n      <td>30.500000</td>\n      <td>47.300000</td>\n      <td>3.200000</td>\n      <td>21.800000</td>\n      <td>14.500000</td>\n      <td>124.000000</td>\n      <td>55.000000</td>\n      <td>57.000000</td>\n      <td>100.000000</td>\n      <td>100.000000</td>\n      <td>...</td>\n      <td>1.000000</td>\n      <td>1.000000</td>\n      <td>1.000000</td>\n      <td>1.000000</td>\n      <td>1.00000</td>\n      <td>1.000000</td>\n      <td>1.000000</td>\n      <td>1.000000</td>\n      <td>1.000000</td>\n      <td>1.000000</td>\n    </tr>\n  </tbody>\n</table>\n<p>8 rows × 95 columns</p>\n</div>"
     },
     "execution_count": 159,
     "metadata": {},
     "output_type": "execute_result"
    }
   ],
   "source": [
    "X_train.describe()"
   ],
   "metadata": {
    "collapsed": false
   }
  },
  {
   "cell_type": "code",
   "execution_count": 160,
   "outputs": [],
   "source": [
    "cols = X_train.columns"
   ],
   "metadata": {
    "collapsed": false
   }
  },
  {
   "cell_type": "code",
   "execution_count": 161,
   "outputs": [],
   "source": [
    "from sklearn.preprocessing import MinMaxScaler\n",
    "scaler = MinMaxScaler()\n",
    "X_train = scaler.fit_transform(X_train)\n",
    "X_test = scaler.transform(X_test)"
   ],
   "metadata": {
    "collapsed": false
   }
  },
  {
   "cell_type": "code",
   "execution_count": 162,
   "outputs": [],
   "source": [
    "X_train = pd.DataFrame(X_train, columns=[cols])"
   ],
   "metadata": {
    "collapsed": false
   }
  },
  {
   "cell_type": "code",
   "execution_count": 163,
   "outputs": [],
   "source": [
    "X_test = pd.DataFrame(X_test, columns=[cols])"
   ],
   "metadata": {
    "collapsed": false
   }
  },
  {
   "cell_type": "code",
   "execution_count": 164,
   "outputs": [
    {
     "data": {
      "text/plain": "            MinTemp       MaxTemp      Rainfall   Evaporation      Sunshine  \\\ncount  45136.000000  45136.000000  45136.000000  45136.000000  45136.000000   \nmean       0.541953      0.465440      0.209947      0.250883      0.533066   \nstd        0.172344      0.161491      0.368641      0.160922      0.259051   \nmin        0.000000      0.000000      0.000000      0.000000      0.000000   \n25%        0.411290      0.337963      0.000000      0.128440      0.344828   \n50%        0.534946      0.458333      0.000000      0.229358      0.593103   \n75%        0.674731      0.592593      0.187500      0.339450      0.737931   \nmax        1.000000      1.000000      1.000000      1.000000      1.000000   \n\n      WindGustSpeed  WindSpeed9am  WindSpeed3pm   Humidity9am   Humidity3pm  \\\ncount  45136.000000  45136.000000  45136.000000  45136.000000  45136.000000   \nmean       0.277272      0.258098      0.323642      0.658944      0.496268   \nstd        0.116167      0.156667      0.154708      0.185296      0.201926   \nmin        0.000000      0.000000      0.000000      0.000000      0.000000   \n25%        0.191304      0.132075      0.200000      0.550000      0.360000   \n50%        0.260870      0.245283      0.309091      0.670000      0.500000   \n75%        0.339130      0.339623      0.436364      0.790000      0.630000   \nmax        1.000000      1.000000      1.000000      1.000000      1.000000   \n\n       ...           NNW            NW             S            SE  \\\ncount  ...  45136.000000  45136.000000  45136.000000  45136.000000   \nmean   ...      0.048875      0.047567      0.072581      0.074708   \nstd    ...      0.215608      0.212851      0.259450      0.262922   \nmin    ...      0.000000      0.000000      0.000000      0.000000   \n25%    ...      0.000000      0.000000      0.000000      0.000000   \n50%    ...      0.000000      0.000000      0.000000      0.000000   \n75%    ...      0.000000      0.000000      0.000000      0.000000   \nmax    ...      1.000000      1.000000      1.000000      1.000000   \n\n               SSE           SSW            SW             W           WNW  \\\ncount  45136.00000  45136.000000  45136.000000  45136.000000  45136.000000   \nmean       0.05849      0.060971      0.071008      0.070498      0.056673   \nstd        0.23467      0.239280      0.256840      0.255987      0.231220   \nmin        0.00000      0.000000      0.000000      0.000000      0.000000   \n25%        0.00000      0.000000      0.000000      0.000000      0.000000   \n50%        0.00000      0.000000      0.000000      0.000000      0.000000   \n75%        0.00000      0.000000      0.000000      0.000000      0.000000   \nmax        1.00000      1.000000      1.000000      1.000000      1.000000   \n\n                WSW  \ncount  45136.000000  \nmean       0.068748  \nstd        0.253028  \nmin        0.000000  \n25%        0.000000  \n50%        0.000000  \n75%        0.000000  \nmax        1.000000  \n\n[8 rows x 95 columns]",
      "text/html": "<div>\n<style scoped>\n    .dataframe tbody tr th:only-of-type {\n        vertical-align: middle;\n    }\n\n    .dataframe tbody tr th {\n        vertical-align: top;\n    }\n\n    .dataframe thead tr th {\n        text-align: left;\n    }\n</style>\n<table border=\"1\" class=\"dataframe\">\n  <thead>\n    <tr>\n      <th></th>\n      <th>MinTemp</th>\n      <th>MaxTemp</th>\n      <th>Rainfall</th>\n      <th>Evaporation</th>\n      <th>Sunshine</th>\n      <th>WindGustSpeed</th>\n      <th>WindSpeed9am</th>\n      <th>WindSpeed3pm</th>\n      <th>Humidity9am</th>\n      <th>Humidity3pm</th>\n      <th>...</th>\n      <th>NNW</th>\n      <th>NW</th>\n      <th>S</th>\n      <th>SE</th>\n      <th>SSE</th>\n      <th>SSW</th>\n      <th>SW</th>\n      <th>W</th>\n      <th>WNW</th>\n      <th>WSW</th>\n    </tr>\n  </thead>\n  <tbody>\n    <tr>\n      <th>count</th>\n      <td>45136.000000</td>\n      <td>45136.000000</td>\n      <td>45136.000000</td>\n      <td>45136.000000</td>\n      <td>45136.000000</td>\n      <td>45136.000000</td>\n      <td>45136.000000</td>\n      <td>45136.000000</td>\n      <td>45136.000000</td>\n      <td>45136.000000</td>\n      <td>...</td>\n      <td>45136.000000</td>\n      <td>45136.000000</td>\n      <td>45136.000000</td>\n      <td>45136.000000</td>\n      <td>45136.00000</td>\n      <td>45136.000000</td>\n      <td>45136.000000</td>\n      <td>45136.000000</td>\n      <td>45136.000000</td>\n      <td>45136.000000</td>\n    </tr>\n    <tr>\n      <th>mean</th>\n      <td>0.541953</td>\n      <td>0.465440</td>\n      <td>0.209947</td>\n      <td>0.250883</td>\n      <td>0.533066</td>\n      <td>0.277272</td>\n      <td>0.258098</td>\n      <td>0.323642</td>\n      <td>0.658944</td>\n      <td>0.496268</td>\n      <td>...</td>\n      <td>0.048875</td>\n      <td>0.047567</td>\n      <td>0.072581</td>\n      <td>0.074708</td>\n      <td>0.05849</td>\n      <td>0.060971</td>\n      <td>0.071008</td>\n      <td>0.070498</td>\n      <td>0.056673</td>\n      <td>0.068748</td>\n    </tr>\n    <tr>\n      <th>std</th>\n      <td>0.172344</td>\n      <td>0.161491</td>\n      <td>0.368641</td>\n      <td>0.160922</td>\n      <td>0.259051</td>\n      <td>0.116167</td>\n      <td>0.156667</td>\n      <td>0.154708</td>\n      <td>0.185296</td>\n      <td>0.201926</td>\n      <td>...</td>\n      <td>0.215608</td>\n      <td>0.212851</td>\n      <td>0.259450</td>\n      <td>0.262922</td>\n      <td>0.23467</td>\n      <td>0.239280</td>\n      <td>0.256840</td>\n      <td>0.255987</td>\n      <td>0.231220</td>\n      <td>0.253028</td>\n    </tr>\n    <tr>\n      <th>min</th>\n      <td>0.000000</td>\n      <td>0.000000</td>\n      <td>0.000000</td>\n      <td>0.000000</td>\n      <td>0.000000</td>\n      <td>0.000000</td>\n      <td>0.000000</td>\n      <td>0.000000</td>\n      <td>0.000000</td>\n      <td>0.000000</td>\n      <td>...</td>\n      <td>0.000000</td>\n      <td>0.000000</td>\n      <td>0.000000</td>\n      <td>0.000000</td>\n      <td>0.00000</td>\n      <td>0.000000</td>\n      <td>0.000000</td>\n      <td>0.000000</td>\n      <td>0.000000</td>\n      <td>0.000000</td>\n    </tr>\n    <tr>\n      <th>25%</th>\n      <td>0.411290</td>\n      <td>0.337963</td>\n      <td>0.000000</td>\n      <td>0.128440</td>\n      <td>0.344828</td>\n      <td>0.191304</td>\n      <td>0.132075</td>\n      <td>0.200000</td>\n      <td>0.550000</td>\n      <td>0.360000</td>\n      <td>...</td>\n      <td>0.000000</td>\n      <td>0.000000</td>\n      <td>0.000000</td>\n      <td>0.000000</td>\n      <td>0.00000</td>\n      <td>0.000000</td>\n      <td>0.000000</td>\n      <td>0.000000</td>\n      <td>0.000000</td>\n      <td>0.000000</td>\n    </tr>\n    <tr>\n      <th>50%</th>\n      <td>0.534946</td>\n      <td>0.458333</td>\n      <td>0.000000</td>\n      <td>0.229358</td>\n      <td>0.593103</td>\n      <td>0.260870</td>\n      <td>0.245283</td>\n      <td>0.309091</td>\n      <td>0.670000</td>\n      <td>0.500000</td>\n      <td>...</td>\n      <td>0.000000</td>\n      <td>0.000000</td>\n      <td>0.000000</td>\n      <td>0.000000</td>\n      <td>0.00000</td>\n      <td>0.000000</td>\n      <td>0.000000</td>\n      <td>0.000000</td>\n      <td>0.000000</td>\n      <td>0.000000</td>\n    </tr>\n    <tr>\n      <th>75%</th>\n      <td>0.674731</td>\n      <td>0.592593</td>\n      <td>0.187500</td>\n      <td>0.339450</td>\n      <td>0.737931</td>\n      <td>0.339130</td>\n      <td>0.339623</td>\n      <td>0.436364</td>\n      <td>0.790000</td>\n      <td>0.630000</td>\n      <td>...</td>\n      <td>0.000000</td>\n      <td>0.000000</td>\n      <td>0.000000</td>\n      <td>0.000000</td>\n      <td>0.00000</td>\n      <td>0.000000</td>\n      <td>0.000000</td>\n      <td>0.000000</td>\n      <td>0.000000</td>\n      <td>0.000000</td>\n    </tr>\n    <tr>\n      <th>max</th>\n      <td>1.000000</td>\n      <td>1.000000</td>\n      <td>1.000000</td>\n      <td>1.000000</td>\n      <td>1.000000</td>\n      <td>1.000000</td>\n      <td>1.000000</td>\n      <td>1.000000</td>\n      <td>1.000000</td>\n      <td>1.000000</td>\n      <td>...</td>\n      <td>1.000000</td>\n      <td>1.000000</td>\n      <td>1.000000</td>\n      <td>1.000000</td>\n      <td>1.00000</td>\n      <td>1.000000</td>\n      <td>1.000000</td>\n      <td>1.000000</td>\n      <td>1.000000</td>\n      <td>1.000000</td>\n    </tr>\n  </tbody>\n</table>\n<p>8 rows × 95 columns</p>\n</div>"
     },
     "execution_count": 164,
     "metadata": {},
     "output_type": "execute_result"
    }
   ],
   "source": [
    "X_train.describe()"
   ],
   "metadata": {
    "collapsed": false
   }
  },
  {
   "cell_type": "markdown",
   "source": [
    "# 12. Model Training"
   ],
   "metadata": {
    "collapsed": false
   }
  },
  {
   "cell_type": "code",
   "execution_count": 165,
   "outputs": [
    {
     "name": "stderr",
     "output_type": "stream",
     "text": [
      "/Users/muhammedmafawalla/lib/python3.7/site-packages/sklearn/utils/validation.py:1692: FutureWarning: Feature names only support names that are all strings. Got feature names with dtypes: ['tuple']. An error will be raised in 1.2.\n",
      "  FutureWarning,\n"
     ]
    },
    {
     "data": {
      "text/plain": "LogisticRegression(random_state=0, solver='liblinear')"
     },
     "execution_count": 165,
     "metadata": {},
     "output_type": "execute_result"
    }
   ],
   "source": [
    "from sklearn.linear_model import LogisticRegression\n",
    "logReg = LogisticRegression(solver='liblinear', random_state=0)\n",
    "\n",
    "logReg.fit(X_train, y_train)"
   ],
   "metadata": {
    "collapsed": false
   }
  },
  {
   "cell_type": "markdown",
   "source": [
    "# 13. Predict Results"
   ],
   "metadata": {
    "collapsed": false
   }
  },
  {
   "cell_type": "code",
   "execution_count": 167,
   "outputs": [
    {
     "name": "stderr",
     "output_type": "stream",
     "text": [
      "/Users/muhammedmafawalla/lib/python3.7/site-packages/sklearn/utils/validation.py:1692: FutureWarning: Feature names only support names that are all strings. Got feature names with dtypes: ['tuple']. An error will be raised in 1.2.\n",
      "  FutureWarning,\n"
     ]
    },
    {
     "data": {
      "text/plain": "array(['No', 'No', 'No', ..., 'No', 'No', 'No'], dtype=object)"
     },
     "execution_count": 167,
     "metadata": {},
     "output_type": "execute_result"
    }
   ],
   "source": [
    "y_pred_test = logReg.predict(X_test)\n",
    "y_pred_test"
   ],
   "metadata": {
    "collapsed": false
   }
  },
  {
   "cell_type": "markdown",
   "source": [
    "## predict_proba method"
   ],
   "metadata": {
    "collapsed": false
   }
  },
  {
   "cell_type": "markdown",
   "source": [
    "predict_proba method gives the probabilities for the target variable(0 and 1) in this case, in array form. 1 is the probability for rain tomorrow"
   ],
   "metadata": {
    "collapsed": false
   }
  },
  {
   "cell_type": "code",
   "execution_count": 168,
   "outputs": [
    {
     "name": "stderr",
     "output_type": "stream",
     "text": [
      "/Users/muhammedmafawalla/lib/python3.7/site-packages/sklearn/utils/validation.py:1692: FutureWarning: Feature names only support names that are all strings. Got feature names with dtypes: ['tuple']. An error will be raised in 1.2.\n",
      "  FutureWarning,\n"
     ]
    },
    {
     "data": {
      "text/plain": "array([0.01037123, 0.27567844, 0.40839278, ..., 0.01917608, 0.18566867,\n       0.34771703])"
     },
     "execution_count": 168,
     "metadata": {},
     "output_type": "execute_result"
    }
   ],
   "source": [
    "# Probability of rain\n",
    "logReg.predict_proba(X_test)[:,1]"
   ],
   "metadata": {
    "collapsed": false
   }
  },
  {
   "cell_type": "code",
   "execution_count": 169,
   "outputs": [
    {
     "name": "stderr",
     "output_type": "stream",
     "text": [
      "/Users/muhammedmafawalla/lib/python3.7/site-packages/sklearn/utils/validation.py:1692: FutureWarning: Feature names only support names that are all strings. Got feature names with dtypes: ['tuple']. An error will be raised in 1.2.\n",
      "  FutureWarning,\n"
     ]
    },
    {
     "data": {
      "text/plain": "array([0.98962877, 0.72432156, 0.59160722, ..., 0.98082392, 0.81433133,\n       0.65228297])"
     },
     "execution_count": 169,
     "metadata": {},
     "output_type": "execute_result"
    }
   ],
   "source": [
    "# Probability of no rain\n",
    "logReg.predict_proba(X_test)[:,0]"
   ],
   "metadata": {
    "collapsed": false
   }
  },
  {
   "cell_type": "markdown",
   "source": [
    "# 14. Check accuracy score"
   ],
   "metadata": {
    "collapsed": false
   }
  },
  {
   "cell_type": "code",
   "execution_count": 170,
   "outputs": [
    {
     "name": "stdout",
     "output_type": "stream",
     "text": [
      "Model accuracy score: 0.8610\n"
     ]
    }
   ],
   "source": [
    "from sklearn.metrics import accuracy_score\n",
    "print('Model accuracy score: {0:0.4f}'. format(accuracy_score(y_test, y_pred_test)))"
   ],
   "metadata": {
    "collapsed": false
   }
  },
  {
   "cell_type": "markdown",
   "source": [
    "## Check for overfitting and underfitting"
   ],
   "metadata": {
    "collapsed": false
   }
  },
  {
   "cell_type": "code",
   "execution_count": 172,
   "outputs": [
    {
     "name": "stdout",
     "output_type": "stream",
     "text": [
      "Training set score: 0.8565\n",
      "Test set score: 0.8610\n"
     ]
    },
    {
     "name": "stderr",
     "output_type": "stream",
     "text": [
      "/Users/muhammedmafawalla/lib/python3.7/site-packages/sklearn/utils/validation.py:1692: FutureWarning: Feature names only support names that are all strings. Got feature names with dtypes: ['tuple']. An error will be raised in 1.2.\n",
      "  FutureWarning,\n",
      "/Users/muhammedmafawalla/lib/python3.7/site-packages/sklearn/utils/validation.py:1692: FutureWarning: Feature names only support names that are all strings. Got feature names with dtypes: ['tuple']. An error will be raised in 1.2.\n",
      "  FutureWarning,\n"
     ]
    }
   ],
   "source": [
    "# print the scores on training and test set\n",
    "\n",
    "print('Training set score: {:.4f}'.format(logReg.score(X_train, y_train)))\n",
    "\n",
    "print('Test set score: {:.4f}'.format(logReg.score(X_test, y_test)))"
   ],
   "metadata": {
    "collapsed": false
   }
  },
  {
   "cell_type": "markdown",
   "source": [
    "The training and test score is similar thus there is no question of overfitting"
   ],
   "metadata": {
    "collapsed": false
   }
  },
  {
   "cell_type": "code",
   "execution_count": null,
   "outputs": [],
   "source": [],
   "metadata": {
    "collapsed": false
   }
  }
 ],
 "metadata": {
  "kernelspec": {
   "display_name": "Python 3",
   "language": "python",
   "name": "python3"
  },
  "language_info": {
   "codemirror_mode": {
    "name": "ipython",
    "version": 2
   },
   "file_extension": ".py",
   "mimetype": "text/x-python",
   "name": "python",
   "nbconvert_exporter": "python",
   "pygments_lexer": "ipython2",
   "version": "2.7.6"
  }
 },
 "nbformat": 4,
 "nbformat_minor": 0
}

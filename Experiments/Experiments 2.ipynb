{
 "cells": [
  {
   "cell_type": "code",
   "execution_count": 68,
   "metadata": {
    "collapsed": true
   },
   "outputs": [],
   "source": [
    "import pandas as pd"
   ]
  },
  {
   "cell_type": "code",
   "execution_count": 69,
   "outputs": [
    {
     "data": {
      "text/plain": "(5124, 2)"
     },
     "execution_count": 69,
     "metadata": {},
     "output_type": "execute_result"
    }
   ],
   "source": [
    "data = pd.read_csv(\"../Data/australian_postcodes.csv\")\n",
    "nsw_data = data.loc[data['state_code'] == 'NSW']\n",
    "nsw_data = nsw_data.drop(['state_name', 'state_code', 'latitude', 'longitude', 'accuracy'], axis=1)\n",
    "nsw_data = nsw_data.rename({'place_name': 'suburb'}, axis=1)\n",
    "nsw_data.shape"
   ],
   "metadata": {
    "collapsed": false
   }
  },
  {
   "cell_type": "code",
   "execution_count": 70,
   "outputs": [
    {
     "data": {
      "text/plain": "(11160, 17)"
     },
     "execution_count": 70,
     "metadata": {},
     "output_type": "execute_result"
    }
   ],
   "source": [
    "housing = pd.read_csv(\"../Data/sydney_housing_2016-2021.csv\")\n",
    "housing.shape"
   ],
   "metadata": {
    "collapsed": false
   }
  },
  {
   "cell_type": "code",
   "execution_count": 73,
   "outputs": [
    {
     "data": {
      "text/plain": "      postcode            suburb\n154       1001            Sydney\n295       1208         Haymarket\n296       1209  Australia Square\n303       1216   Grosvenor Place\n308       1221    Royal Exchange\n...        ...               ...\n5272      4380          Mingoola\n5273      4380         Amosfield\n5274      4380        Ruby Creek\n5276      4383          Jennings\n5277      4385        Camp Creek\n\n[4694 rows x 2 columns]",
      "text/html": "<div>\n<style scoped>\n    .dataframe tbody tr th:only-of-type {\n        vertical-align: middle;\n    }\n\n    .dataframe tbody tr th {\n        vertical-align: top;\n    }\n\n    .dataframe thead th {\n        text-align: right;\n    }\n</style>\n<table border=\"1\" class=\"dataframe\">\n  <thead>\n    <tr style=\"text-align: right;\">\n      <th></th>\n      <th>postcode</th>\n      <th>suburb</th>\n    </tr>\n  </thead>\n  <tbody>\n    <tr>\n      <th>154</th>\n      <td>1001</td>\n      <td>Sydney</td>\n    </tr>\n    <tr>\n      <th>295</th>\n      <td>1208</td>\n      <td>Haymarket</td>\n    </tr>\n    <tr>\n      <th>296</th>\n      <td>1209</td>\n      <td>Australia Square</td>\n    </tr>\n    <tr>\n      <th>303</th>\n      <td>1216</td>\n      <td>Grosvenor Place</td>\n    </tr>\n    <tr>\n      <th>308</th>\n      <td>1221</td>\n      <td>Royal Exchange</td>\n    </tr>\n    <tr>\n      <th>...</th>\n      <td>...</td>\n      <td>...</td>\n    </tr>\n    <tr>\n      <th>5272</th>\n      <td>4380</td>\n      <td>Mingoola</td>\n    </tr>\n    <tr>\n      <th>5273</th>\n      <td>4380</td>\n      <td>Amosfield</td>\n    </tr>\n    <tr>\n      <th>5274</th>\n      <td>4380</td>\n      <td>Ruby Creek</td>\n    </tr>\n    <tr>\n      <th>5276</th>\n      <td>4383</td>\n      <td>Jennings</td>\n    </tr>\n    <tr>\n      <th>5277</th>\n      <td>4385</td>\n      <td>Camp Creek</td>\n    </tr>\n  </tbody>\n</table>\n<p>4694 rows × 2 columns</p>\n</div>"
     },
     "execution_count": 73,
     "metadata": {},
     "output_type": "execute_result"
    }
   ],
   "source": [
    "nsw_data = nsw_data.drop_duplicates(subset=['suburb'])\n",
    "nsw_data"
   ],
   "metadata": {
    "collapsed": false
   }
  },
  {
   "cell_type": "code",
   "execution_count": 80,
   "outputs": [],
   "source": [
    "nsw_data.to_csv('nsw_postcodes.csv', index=False)"
   ],
   "metadata": {
    "collapsed": false
   }
  },
  {
   "cell_type": "code",
   "execution_count": 72,
   "outputs": [
    {
     "data": {
      "text/plain": "         price date_sold            suburb  num_bath  num_bed  num_parking  \\\n0       530000   13/1/16         Kincumber         4        4            2   \n1       550000   15/1/16         Kincumber         1        3            1   \n2       500000   19/1/16         Kincumber         1        3            1   \n3       540000   22/1/16         Kincumber         1        3            2   \n4       395000   22/1/16         Kincumber         1        1            0   \n...        ...       ...               ...       ...      ...          ...   \n11154  1065000  13/12/21     Eastern Creek         3        3            2   \n11155  1000000  13/12/21     Eastern Creek         2        4            2   \n11156  1075000  25/11/21        Heckenberg         2        5            4   \n11157  1115000  15/12/21           Sadleir         2        4            2   \n11158  1090000  24/12/21  Werrington Downs         3        6            2   \n\n       property_size   type  suburb_population  suburb_median_income  \\\n0               1351  House               7093                 29432   \n1                626  House               7093                 29432   \n2                791  House               7093                 29432   \n3                623  House               7093                 29432   \n4                642  House               7093                 29432   \n...              ...    ...                ...                   ...   \n11154            949  House                827                 33852   \n11155            910  House                827                 33852   \n11156            601  House               3094                 22152   \n11157            639  House               3135                 21060   \n11158            795  House               3249                 41184   \n\n       suburb_sqkm  suburb_lat  suburb_lng  suburb_elevation  cash_rate  \\\n0            9.914   -33.47252   151.40208                24        2.0   \n1            9.914   -33.47252   151.40208                24        2.0   \n2            9.914   -33.47252   151.40208                24        2.0   \n3            9.914   -33.47252   151.40208                24        2.0   \n4            9.914   -33.47252   151.40208                24        2.0   \n...            ...         ...         ...               ...        ...   \n11154       20.431   -33.79734   150.84976                63        0.1   \n11155       20.431   -33.79734   150.84976                63        0.1   \n11156        0.928   -33.90786   150.89189                59        0.1   \n11157        0.899   -33.91680   150.89054                25        0.1   \n11158        1.109   -33.74159   150.73207                46        0.1   \n\n       property_inflation_index  km_from_cbd  postcode  \n0                         150.9        47.05      2251  \n1                         150.9        47.05      2251  \n2                         150.9        47.05      2251  \n3                         150.9        47.05      2251  \n4                         150.9        47.05      2251  \n...                         ...          ...       ...  \n11154                     220.1        34.17      2766  \n11155                     220.1        34.17      2766  \n11156                     220.1        29.80      2168  \n11157                     220.1        30.09      2168  \n11158                     220.1        46.32      2747  \n\n[11159 rows x 18 columns]",
      "text/html": "<div>\n<style scoped>\n    .dataframe tbody tr th:only-of-type {\n        vertical-align: middle;\n    }\n\n    .dataframe tbody tr th {\n        vertical-align: top;\n    }\n\n    .dataframe thead th {\n        text-align: right;\n    }\n</style>\n<table border=\"1\" class=\"dataframe\">\n  <thead>\n    <tr style=\"text-align: right;\">\n      <th></th>\n      <th>price</th>\n      <th>date_sold</th>\n      <th>suburb</th>\n      <th>num_bath</th>\n      <th>num_bed</th>\n      <th>num_parking</th>\n      <th>property_size</th>\n      <th>type</th>\n      <th>suburb_population</th>\n      <th>suburb_median_income</th>\n      <th>suburb_sqkm</th>\n      <th>suburb_lat</th>\n      <th>suburb_lng</th>\n      <th>suburb_elevation</th>\n      <th>cash_rate</th>\n      <th>property_inflation_index</th>\n      <th>km_from_cbd</th>\n      <th>postcode</th>\n    </tr>\n  </thead>\n  <tbody>\n    <tr>\n      <th>0</th>\n      <td>530000</td>\n      <td>13/1/16</td>\n      <td>Kincumber</td>\n      <td>4</td>\n      <td>4</td>\n      <td>2</td>\n      <td>1351</td>\n      <td>House</td>\n      <td>7093</td>\n      <td>29432</td>\n      <td>9.914</td>\n      <td>-33.47252</td>\n      <td>151.40208</td>\n      <td>24</td>\n      <td>2.0</td>\n      <td>150.9</td>\n      <td>47.05</td>\n      <td>2251</td>\n    </tr>\n    <tr>\n      <th>1</th>\n      <td>550000</td>\n      <td>15/1/16</td>\n      <td>Kincumber</td>\n      <td>1</td>\n      <td>3</td>\n      <td>1</td>\n      <td>626</td>\n      <td>House</td>\n      <td>7093</td>\n      <td>29432</td>\n      <td>9.914</td>\n      <td>-33.47252</td>\n      <td>151.40208</td>\n      <td>24</td>\n      <td>2.0</td>\n      <td>150.9</td>\n      <td>47.05</td>\n      <td>2251</td>\n    </tr>\n    <tr>\n      <th>2</th>\n      <td>500000</td>\n      <td>19/1/16</td>\n      <td>Kincumber</td>\n      <td>1</td>\n      <td>3</td>\n      <td>1</td>\n      <td>791</td>\n      <td>House</td>\n      <td>7093</td>\n      <td>29432</td>\n      <td>9.914</td>\n      <td>-33.47252</td>\n      <td>151.40208</td>\n      <td>24</td>\n      <td>2.0</td>\n      <td>150.9</td>\n      <td>47.05</td>\n      <td>2251</td>\n    </tr>\n    <tr>\n      <th>3</th>\n      <td>540000</td>\n      <td>22/1/16</td>\n      <td>Kincumber</td>\n      <td>1</td>\n      <td>3</td>\n      <td>2</td>\n      <td>623</td>\n      <td>House</td>\n      <td>7093</td>\n      <td>29432</td>\n      <td>9.914</td>\n      <td>-33.47252</td>\n      <td>151.40208</td>\n      <td>24</td>\n      <td>2.0</td>\n      <td>150.9</td>\n      <td>47.05</td>\n      <td>2251</td>\n    </tr>\n    <tr>\n      <th>4</th>\n      <td>395000</td>\n      <td>22/1/16</td>\n      <td>Kincumber</td>\n      <td>1</td>\n      <td>1</td>\n      <td>0</td>\n      <td>642</td>\n      <td>House</td>\n      <td>7093</td>\n      <td>29432</td>\n      <td>9.914</td>\n      <td>-33.47252</td>\n      <td>151.40208</td>\n      <td>24</td>\n      <td>2.0</td>\n      <td>150.9</td>\n      <td>47.05</td>\n      <td>2251</td>\n    </tr>\n    <tr>\n      <th>...</th>\n      <td>...</td>\n      <td>...</td>\n      <td>...</td>\n      <td>...</td>\n      <td>...</td>\n      <td>...</td>\n      <td>...</td>\n      <td>...</td>\n      <td>...</td>\n      <td>...</td>\n      <td>...</td>\n      <td>...</td>\n      <td>...</td>\n      <td>...</td>\n      <td>...</td>\n      <td>...</td>\n      <td>...</td>\n      <td>...</td>\n    </tr>\n    <tr>\n      <th>11154</th>\n      <td>1065000</td>\n      <td>13/12/21</td>\n      <td>Eastern Creek</td>\n      <td>3</td>\n      <td>3</td>\n      <td>2</td>\n      <td>949</td>\n      <td>House</td>\n      <td>827</td>\n      <td>33852</td>\n      <td>20.431</td>\n      <td>-33.79734</td>\n      <td>150.84976</td>\n      <td>63</td>\n      <td>0.1</td>\n      <td>220.1</td>\n      <td>34.17</td>\n      <td>2766</td>\n    </tr>\n    <tr>\n      <th>11155</th>\n      <td>1000000</td>\n      <td>13/12/21</td>\n      <td>Eastern Creek</td>\n      <td>2</td>\n      <td>4</td>\n      <td>2</td>\n      <td>910</td>\n      <td>House</td>\n      <td>827</td>\n      <td>33852</td>\n      <td>20.431</td>\n      <td>-33.79734</td>\n      <td>150.84976</td>\n      <td>63</td>\n      <td>0.1</td>\n      <td>220.1</td>\n      <td>34.17</td>\n      <td>2766</td>\n    </tr>\n    <tr>\n      <th>11156</th>\n      <td>1075000</td>\n      <td>25/11/21</td>\n      <td>Heckenberg</td>\n      <td>2</td>\n      <td>5</td>\n      <td>4</td>\n      <td>601</td>\n      <td>House</td>\n      <td>3094</td>\n      <td>22152</td>\n      <td>0.928</td>\n      <td>-33.90786</td>\n      <td>150.89189</td>\n      <td>59</td>\n      <td>0.1</td>\n      <td>220.1</td>\n      <td>29.80</td>\n      <td>2168</td>\n    </tr>\n    <tr>\n      <th>11157</th>\n      <td>1115000</td>\n      <td>15/12/21</td>\n      <td>Sadleir</td>\n      <td>2</td>\n      <td>4</td>\n      <td>2</td>\n      <td>639</td>\n      <td>House</td>\n      <td>3135</td>\n      <td>21060</td>\n      <td>0.899</td>\n      <td>-33.91680</td>\n      <td>150.89054</td>\n      <td>25</td>\n      <td>0.1</td>\n      <td>220.1</td>\n      <td>30.09</td>\n      <td>2168</td>\n    </tr>\n    <tr>\n      <th>11158</th>\n      <td>1090000</td>\n      <td>24/12/21</td>\n      <td>Werrington Downs</td>\n      <td>3</td>\n      <td>6</td>\n      <td>2</td>\n      <td>795</td>\n      <td>House</td>\n      <td>3249</td>\n      <td>41184</td>\n      <td>1.109</td>\n      <td>-33.74159</td>\n      <td>150.73207</td>\n      <td>46</td>\n      <td>0.1</td>\n      <td>220.1</td>\n      <td>46.32</td>\n      <td>2747</td>\n    </tr>\n  </tbody>\n</table>\n<p>11159 rows × 18 columns</p>\n</div>"
     },
     "execution_count": 72,
     "metadata": {},
     "output_type": "execute_result"
    }
   ],
   "source": [
    "housing.merge(nsw_data, on='suburb')"
   ],
   "metadata": {
    "collapsed": false
   }
  },
  {
   "cell_type": "code",
   "execution_count": null,
   "outputs": [],
   "source": [],
   "metadata": {
    "collapsed": false
   }
  }
 ],
 "metadata": {
  "kernelspec": {
   "display_name": "Python 3",
   "language": "python",
   "name": "python3"
  },
  "language_info": {
   "codemirror_mode": {
    "name": "ipython",
    "version": 2
   },
   "file_extension": ".py",
   "mimetype": "text/x-python",
   "name": "python",
   "nbconvert_exporter": "python",
   "pygments_lexer": "ipython2",
   "version": "2.7.6"
  }
 },
 "nbformat": 4,
 "nbformat_minor": 0
}

{
 "cells": [
  {
   "cell_type": "markdown",
   "source": [
    "# Image Classification(CIFAR10 Dataset)"
   ],
   "metadata": {
    "collapsed": false
   }
  },
  {
   "cell_type": "code",
   "execution_count": 3,
   "outputs": [],
   "source": [
    "import pandas as pd\n",
    "import numpy as np\n",
    "import matplotlib.pyplot as plt\n",
    "import tensorflow as tf\n",
    "from tensorflow.python.keras import models, layers"
   ],
   "metadata": {
    "collapsed": false
   }
  },
  {
   "cell_type": "markdown",
   "source": [
    " # Data"
   ],
   "metadata": {
    "collapsed": false
   }
  },
  {
   "cell_type": "code",
   "execution_count": 4,
   "outputs": [
    {
     "data": {
      "text/plain": "((50000, 32, 32, 3), (10000, 32, 32, 3))"
     },
     "execution_count": 4,
     "metadata": {},
     "output_type": "execute_result"
    }
   ],
   "source": [
    "(X_train, y_train), (X_test, y_test) = tf.keras.datasets.cifar10.load_data()\n",
    "X_train.shape, X_test.shape"
   ],
   "metadata": {
    "collapsed": false
   }
  },
  {
   "cell_type": "markdown",
   "source": [
    "## Rehape image classes(y_train) data"
   ],
   "metadata": {
    "collapsed": false
   }
  },
  {
   "cell_type": "code",
   "execution_count": 5,
   "outputs": [
    {
     "data": {
      "text/plain": "array([[6],\n       [9],\n       [9]], dtype=uint8)"
     },
     "execution_count": 5,
     "metadata": {},
     "output_type": "execute_result"
    }
   ],
   "source": [
    "y_train[:3]"
   ],
   "metadata": {
    "collapsed": false
   }
  },
  {
   "cell_type": "code",
   "execution_count": 6,
   "outputs": [
    {
     "data": {
      "text/plain": "4"
     },
     "execution_count": 6,
     "metadata": {},
     "output_type": "execute_result"
    }
   ],
   "source": [
    "y_train = y_train.reshape(-1,)\n",
    "y_train[3]"
   ],
   "metadata": {
    "collapsed": false
   }
  },
  {
   "cell_type": "code",
   "execution_count": 7,
   "outputs": [],
   "source": [
    "classes = [\"airplane\",\"automobile\",\"bird\",\"cat\",\"deer\",\"dog\",\"frog\",\"horse\",\"ship\",\"truck\"]"
   ],
   "metadata": {
    "collapsed": false
   }
  },
  {
   "cell_type": "code",
   "execution_count": 8,
   "outputs": [],
   "source": [
    "def plt_img(X, y, index):\n",
    "    plt.figure(figsize=(15,2))\n",
    "    plt.imshow(X[index])\n",
    "    plt.xlabel(classes[y[index]])"
   ],
   "metadata": {
    "collapsed": false
   }
  },
  {
   "cell_type": "code",
   "execution_count": 9,
   "outputs": [
    {
     "data": {
      "text/plain": "<Figure size 1500x200 with 1 Axes>",
      "image/png": "[encoded data removed]"
     },
     "metadata": {},
     "output_type": "display_data"
    }
   ],
   "source": [
    "plt_img(X_train, y_train, 0)"
   ],
   "metadata": {
    "collapsed": false
   }
  },
  {
   "cell_type": "markdown",
   "source": [
    "## Scale the image pixel data\n",
    "Normalise the pixel values from 0 to 1"
   ],
   "metadata": {
    "collapsed": false
   }
  },
  {
   "cell_type": "code",
   "execution_count": 10,
   "outputs": [
    {
     "data": {
      "text/plain": "array([[[ 59,  62,  63],\n        [ 43,  46,  45],\n        [ 50,  48,  43],\n        ...,\n        [158, 132, 108],\n        [152, 125, 102],\n        [148, 124, 103]],\n\n       [[ 16,  20,  20],\n        [  0,   0,   0],\n        [ 18,   8,   0],\n        ...,\n        [123,  88,  55],\n        [119,  83,  50],\n        [122,  87,  57]],\n\n       [[ 25,  24,  21],\n        [ 16,   7,   0],\n        [ 49,  27,   8],\n        ...,\n        [118,  84,  50],\n        [120,  84,  50],\n        [109,  73,  42]],\n\n       ...,\n\n       [[208, 170,  96],\n        [201, 153,  34],\n        [198, 161,  26],\n        ...,\n        [160, 133,  70],\n        [ 56,  31,   7],\n        [ 53,  34,  20]],\n\n       [[180, 139,  96],\n        [173, 123,  42],\n        [186, 144,  30],\n        ...,\n        [184, 148,  94],\n        [ 97,  62,  34],\n        [ 83,  53,  34]],\n\n       [[177, 144, 116],\n        [168, 129,  94],\n        [179, 142,  87],\n        ...,\n        [216, 184, 140],\n        [151, 118,  84],\n        [123,  92,  72]]], dtype=uint8)"
     },
     "execution_count": 10,
     "metadata": {},
     "output_type": "execute_result"
    }
   ],
   "source": [
    "X_train[0]"
   ],
   "metadata": {
    "collapsed": false
   }
  },
  {
   "cell_type": "code",
   "execution_count": 11,
   "outputs": [
    {
     "data": {
      "text/plain": "array([[[0.23137255, 0.24313725, 0.24705882],\n        [0.16862745, 0.18039216, 0.17647059],\n        [0.19607843, 0.18823529, 0.16862745],\n        ...,\n        [0.61960784, 0.51764706, 0.42352941],\n        [0.59607843, 0.49019608, 0.4       ],\n        [0.58039216, 0.48627451, 0.40392157]],\n\n       [[0.0627451 , 0.07843137, 0.07843137],\n        [0.        , 0.        , 0.        ],\n        [0.07058824, 0.03137255, 0.        ],\n        ...,\n        [0.48235294, 0.34509804, 0.21568627],\n        [0.46666667, 0.3254902 , 0.19607843],\n        [0.47843137, 0.34117647, 0.22352941]],\n\n       [[0.09803922, 0.09411765, 0.08235294],\n        [0.0627451 , 0.02745098, 0.        ],\n        [0.19215686, 0.10588235, 0.03137255],\n        ...,\n        [0.4627451 , 0.32941176, 0.19607843],\n        [0.47058824, 0.32941176, 0.19607843],\n        [0.42745098, 0.28627451, 0.16470588]],\n\n       ...,\n\n       [[0.81568627, 0.66666667, 0.37647059],\n        [0.78823529, 0.6       , 0.13333333],\n        [0.77647059, 0.63137255, 0.10196078],\n        ...,\n        [0.62745098, 0.52156863, 0.2745098 ],\n        [0.21960784, 0.12156863, 0.02745098],\n        [0.20784314, 0.13333333, 0.07843137]],\n\n       [[0.70588235, 0.54509804, 0.37647059],\n        [0.67843137, 0.48235294, 0.16470588],\n        [0.72941176, 0.56470588, 0.11764706],\n        ...,\n        [0.72156863, 0.58039216, 0.36862745],\n        [0.38039216, 0.24313725, 0.13333333],\n        [0.3254902 , 0.20784314, 0.13333333]],\n\n       [[0.69411765, 0.56470588, 0.45490196],\n        [0.65882353, 0.50588235, 0.36862745],\n        [0.70196078, 0.55686275, 0.34117647],\n        ...,\n        [0.84705882, 0.72156863, 0.54901961],\n        [0.59215686, 0.4627451 , 0.32941176],\n        [0.48235294, 0.36078431, 0.28235294]]])"
     },
     "execution_count": 11,
     "metadata": {},
     "output_type": "execute_result"
    }
   ],
   "source": [
    "X_train = X_train / 255\n",
    "X_test = X_test / 255\n",
    "X_train[0]"
   ],
   "metadata": {
    "collapsed": false
   }
  },
  {
   "cell_type": "markdown",
   "source": [
    "# Model Creation"
   ],
   "metadata": {
    "collapsed": false
   }
  },
  {
   "cell_type": "markdown",
   "source": [
    "# Artificial Neural Network(ANN)\n",
    "We will first use an ANN to evaluate its accuracy"
   ],
   "metadata": {
    "collapsed": false
   }
  },
  {
   "cell_type": "code",
   "execution_count": 12,
   "outputs": [
    {
     "name": "stderr",
     "output_type": "stream",
     "text": [
      "2023-03-21 13:53:18.365894: I tensorflow/core/common_runtime/pluggable_device/pluggable_device_factory.cc:306] Could not identify NUMA node of platform GPU ID 0, defaulting to 0. Your kernel may not have been built with NUMA support.\n",
      "2023-03-21 13:53:18.365922: I tensorflow/core/common_runtime/pluggable_device/pluggable_device_factory.cc:272] Created TensorFlow device (/job:localhost/replica:0/task:0/device:GPU:0 with 0 MB memory) -> physical PluggableDevice (device: 0, name: METAL, pci bus id: <undefined>)\n"
     ]
    },
    {
     "name": "stdout",
     "output_type": "stream",
     "text": [
      "Metal device set to: Apple M1 Pro\n"
     ]
    },
    {
     "name": "stderr",
     "output_type": "stream",
     "text": [
      "2023-03-21 13:53:19.687371: W tensorflow/tsl/platform/profile_utils/cpu_utils.cc:128] Failed to get CPU frequency: 0 Hz\n"
     ]
    },
    {
     "name": "stdout",
     "output_type": "stream",
     "text": [
      "Epoch 1/5\n",
      "   1/1563 [..............................] - ETA: 12:37 - loss: 2.4148 - accuracy: 0.1250"
     ]
    },
    {
     "name": "stderr",
     "output_type": "stream",
     "text": [
      "2023-03-21 13:53:20.039664: I tensorflow/core/grappler/optimizers/custom_graph_optimizer_registry.cc:114] Plugin optimizer for device_type GPU is enabled.\n"
     ]
    },
    {
     "name": "stdout",
     "output_type": "stream",
     "text": [
      "1563/1563 [==============================] - 15s 9ms/step - loss: 1.8811 - accuracy: 0.3280\n",
      "Epoch 2/5\n",
      "1563/1563 [==============================] - 14s 9ms/step - loss: 1.6731 - accuracy: 0.4014\n",
      "Epoch 3/5\n",
      "1563/1563 [==============================] - 14s 9ms/step - loss: 1.5897 - accuracy: 0.4312\n",
      "Epoch 4/5\n",
      "1563/1563 [==============================] - 14s 9ms/step - loss: 1.5414 - accuracy: 0.4469\n",
      "Epoch 5/5\n",
      "1563/1563 [==============================] - 14s 9ms/step - loss: 1.5018 - accuracy: 0.4624\n"
     ]
    },
    {
     "data": {
      "text/plain": "<tensorflow.python.keras.callbacks.History at 0x16aa3f7f0>"
     },
     "execution_count": 12,
     "metadata": {},
     "output_type": "execute_result"
    }
   ],
   "source": [
    "ann = models.Sequential([\n",
    "    layers.Flatten(input_shape=(32,32,3)),\n",
    "    layers.Dense(3000, activation='relu'),\n",
    "    layers.Dense(1000, activation='relu'),\n",
    "    # Output Layer: 10 classes\n",
    "    layers.Dense(10, activation='sigmoid')\n",
    "])\n",
    "\n",
    "ann.compile(\n",
    "    optimizer='adam',\n",
    "    loss='sparse_categorical_crossentropy',\n",
    "    metrics=['accuracy']\n",
    ")\n",
    "\n",
    "ann.fit(X_train, y_train, epochs=5)"
   ],
   "metadata": {
    "collapsed": false
   }
  },
  {
   "cell_type": "code",
   "execution_count": 13,
   "outputs": [
    {
     "name": "stdout",
     "output_type": "stream",
     "text": [
      " 23/313 [=>............................] - ETA: 1s - loss: 1.4796 - accuracy: 0.4470"
     ]
    },
    {
     "name": "stderr",
     "output_type": "stream",
     "text": [
      "2023-03-21 13:54:31.204033: I tensorflow/core/grappler/optimizers/custom_graph_optimizer_registry.cc:114] Plugin optimizer for device_type GPU is enabled.\n"
     ]
    },
    {
     "name": "stdout",
     "output_type": "stream",
     "text": [
      "313/313 [==============================] - 2s 5ms/step - loss: 1.4967 - accuracy: 0.4651\n"
     ]
    },
    {
     "data": {
      "text/plain": "[1.4966908693313599, 0.4651000201702118]"
     },
     "execution_count": 13,
     "metadata": {},
     "output_type": "execute_result"
    }
   ],
   "source": [
    "ann.evaluate(X_test,y_test)"
   ],
   "metadata": {
    "collapsed": false
   }
  },
  {
   "cell_type": "markdown",
   "source": [
    "ANN is performing with low accuracy: 0.45"
   ],
   "metadata": {
    "collapsed": false
   }
  },
  {
   "cell_type": "markdown",
   "source": [
    "## Classification Report"
   ],
   "metadata": {
    "collapsed": false
   }
  },
  {
   "cell_type": "code",
   "execution_count": 14,
   "outputs": [
    {
     "name": "stderr",
     "output_type": "stream",
     "text": [
      "2023-03-21 13:54:32.908019: I tensorflow/core/grappler/optimizers/custom_graph_optimizer_registry.cc:114] Plugin optimizer for device_type GPU is enabled.\n"
     ]
    },
    {
     "name": "stdout",
     "output_type": "stream",
     "text": [
      "Classification Report: \n",
      "               precision    recall  f1-score   support\n",
      "\n",
      "           0       0.54      0.49      0.51      1000\n",
      "           1       0.61      0.54      0.58      1000\n",
      "           2       0.36      0.38      0.37      1000\n",
      "           3       0.31      0.41      0.35      1000\n",
      "           4       0.46      0.32      0.38      1000\n",
      "           5       0.39      0.36      0.38      1000\n",
      "           6       0.49      0.42      0.45      1000\n",
      "           7       0.58      0.48      0.52      1000\n",
      "           8       0.51      0.67      0.58      1000\n",
      "           9       0.48      0.59      0.53      1000\n",
      "\n",
      "    accuracy                           0.47     10000\n",
      "   macro avg       0.47      0.47      0.46     10000\n",
      "weighted avg       0.47      0.47      0.46     10000\n",
      "\n"
     ]
    }
   ],
   "source": [
    "from sklearn.metrics import confusion_matrix, classification_report\n",
    "y_pred = ann.predict(X_test)\n",
    "y_pred_classes = [np.argmax(element) for element in y_pred]\n",
    "print(\"Classification Report: \\n\", classification_report(y_test, y_pred_classes))"
   ],
   "metadata": {
    "collapsed": false
   }
  },
  {
   "cell_type": "markdown",
   "source": [
    "## Convolutional Neural Network\n",
    "\n",
    "Since a CNN is made up of: Convolution+Relu and Pooling Layers then a Dense Layer. We will keep the dense layer above and work on the Convolution+Relu and Pooling aspects"
   ],
   "metadata": {
    "collapsed": false
   }
  },
  {
   "cell_type": "markdown",
   "source": [
    "<img src=\"Images/cnn.png\"></img>"
   ],
   "metadata": {
    "collapsed": false
   }
  },
  {
   "cell_type": "code",
   "execution_count": 15,
   "outputs": [],
   "source": [
    "cnn = models.Sequential([\n",
    "    # CNN\n",
    "    # kernel_size: size of filter\n",
    "    layers.Conv2D(filters=32, kernel_size=(3,3), activation='relu', input_shape=(32,32,3)),\n",
    "    layers.MaxPooling2D((2,2)),\n",
    "\n",
    "    layers.Conv2D(filters=64, kernel_size=(3,3), activation='relu'),\n",
    "    layers.MaxPooling2D((2,2)),\n",
    "\n",
    "    # Dense Layers\n",
    "    layers.Flatten(), # CNN will figure out the input shape\n",
    "    layers.Dense(64, activation='relu'),\n",
    "    # Output Layer: 10 classes\n",
    "    # Softmax: classes probability output will sum to 1\n",
    "    layers.Dense(10, activation='softmax')\n",
    "])"
   ],
   "metadata": {
    "collapsed": false
   }
  },
  {
   "cell_type": "code",
   "execution_count": 19,
   "outputs": [],
   "source": [
    "cnn.compile(\n",
    "    optimizer='adam',\n",
    "    loss='sparse_categorical_crossentropy',\n",
    "    metrics=['accuracy']\n",
    ")"
   ],
   "metadata": {
    "collapsed": false
   }
  },
  {
   "cell_type": "code",
   "execution_count": 20,
   "outputs": [
    {
     "name": "stdout",
     "output_type": "stream",
     "text": [
      "Epoch 1/10\n"
     ]
    },
    {
     "name": "stderr",
     "output_type": "stream",
     "text": [
      "2023-03-21 13:55:37.068311: I tensorflow/core/grappler/optimizers/custom_graph_optimizer_registry.cc:114] Plugin optimizer for device_type GPU is enabled.\n"
     ]
    },
    {
     "name": "stdout",
     "output_type": "stream",
     "text": [
      "1563/1563 [==============================] - 13s 7ms/step - loss: 1.4822 - accuracy: 0.4673\n",
      "Epoch 2/10\n",
      "1563/1563 [==============================] - 11s 7ms/step - loss: 1.1045 - accuracy: 0.6131\n",
      "Epoch 3/10\n",
      "1563/1563 [==============================] - 10s 7ms/step - loss: 0.9629 - accuracy: 0.6670\n",
      "Epoch 4/10\n",
      "1563/1563 [==============================] - 10s 7ms/step - loss: 0.8788 - accuracy: 0.6963\n",
      "Epoch 5/10\n",
      "1563/1563 [==============================] - 10s 7ms/step - loss: 0.8052 - accuracy: 0.7203\n",
      "Epoch 6/10\n",
      "1563/1563 [==============================] - 11s 7ms/step - loss: 0.7473 - accuracy: 0.7405\n",
      "Epoch 7/10\n",
      "1563/1563 [==============================] - 11s 7ms/step - loss: 0.6990 - accuracy: 0.7550\n",
      "Epoch 8/10\n",
      "1563/1563 [==============================] - 10s 7ms/step - loss: 0.6598 - accuracy: 0.7688\n",
      "Epoch 9/10\n",
      "1563/1563 [==============================] - 11s 7ms/step - loss: 0.6170 - accuracy: 0.7823\n",
      "Epoch 10/10\n",
      "1563/1563 [==============================] - 11s 7ms/step - loss: 0.5835 - accuracy: 0.7951\n"
     ]
    },
    {
     "data": {
      "text/plain": "<tensorflow.python.keras.callbacks.History at 0x28c527460>"
     },
     "execution_count": 20,
     "metadata": {},
     "output_type": "execute_result"
    }
   ],
   "source": [
    "cnn.fit(X_train, y_train, epochs=10)"
   ],
   "metadata": {
    "collapsed": false
   }
  },
  {
   "cell_type": "code",
   "execution_count": 21,
   "outputs": [
    {
     "name": "stdout",
     "output_type": "stream",
     "text": [
      " 21/313 [=>............................] - ETA: 1s - loss: 0.8440 - accuracy: 0.7202"
     ]
    },
    {
     "name": "stderr",
     "output_type": "stream",
     "text": [
      "2023-03-21 13:57:25.489842: I tensorflow/core/grappler/optimizers/custom_graph_optimizer_registry.cc:114] Plugin optimizer for device_type GPU is enabled.\n"
     ]
    },
    {
     "name": "stdout",
     "output_type": "stream",
     "text": [
      "313/313 [==============================] - 2s 4ms/step - loss: 0.9190 - accuracy: 0.7082\n"
     ]
    },
    {
     "data": {
      "text/plain": "[0.9189518094062805, 0.7082000374794006]"
     },
     "execution_count": 21,
     "metadata": {},
     "output_type": "execute_result"
    }
   ],
   "source": [
    "cnn.evaluate(X_test, y_test)"
   ],
   "metadata": {
    "collapsed": false
   }
  },
  {
   "cell_type": "markdown",
   "source": [
    "CNN achieved a greater accuracy compared to ANN: 0.70 vs 0.45"
   ],
   "metadata": {
    "collapsed": false
   }
  },
  {
   "cell_type": "markdown",
   "source": [
    "# Predictions"
   ],
   "metadata": {
    "collapsed": false
   }
  },
  {
   "cell_type": "code",
   "execution_count": 25,
   "outputs": [
    {
     "data": {
      "text/plain": "array([[1.01609148e-04, 1.21055949e-04, 3.26906377e-03, 8.76022577e-01,\n        5.81560191e-04, 9.39838067e-02, 3.31541151e-03, 8.10546117e-05,\n        2.24160943e-02, 1.07846776e-04],\n       [2.86714174e-04, 1.13482783e-02, 2.44734395e-07, 1.42733114e-07,\n        3.07214982e-08, 1.93155617e-10, 3.26213723e-09, 2.28876279e-10,\n        9.88361776e-01, 2.95117570e-06],\n       [8.10630023e-02, 6.39548302e-01, 1.53448433e-04, 1.76313240e-03,\n        3.14761186e-04, 9.11894967e-05, 1.65814417e-05, 2.43643677e-04,\n        2.72644073e-01, 4.16193297e-03],\n       [6.52350068e-01, 6.07534265e-03, 3.36097814e-02, 4.45388481e-02,\n        1.68992616e-02, 1.69836858e-04, 7.16199051e-04, 1.17884911e-05,\n        2.45324671e-01, 3.04212736e-04],\n       [9.20946059e-06, 1.35392811e-05, 4.99136979e-03, 7.40618771e-03,\n        7.54399180e-01, 2.52613588e-03, 2.30609894e-01, 3.70965536e-05,\n        2.62611547e-06, 4.69919496e-06]], dtype=float32)"
     },
     "execution_count": 25,
     "metadata": {},
     "output_type": "execute_result"
    }
   ],
   "source": [
    "y_pred = cnn.predict(X_test)\n",
    "y_pred[:5]"
   ],
   "metadata": {
    "collapsed": false
   }
  },
  {
   "cell_type": "markdown",
   "source": [
    "The above is softmax output where the sum of probabilities for a sample is 1. We will convert so the largest probability is 1, by using the argmax function"
   ],
   "metadata": {
    "collapsed": false
   }
  },
  {
   "cell_type": "code",
   "execution_count": 27,
   "outputs": [
    {
     "data": {
      "text/plain": "1"
     },
     "execution_count": 27,
     "metadata": {},
     "output_type": "execute_result"
    }
   ],
   "source": [
    "np.argmax([2,50,4])"
   ],
   "metadata": {
    "collapsed": false
   }
  },
  {
   "cell_type": "markdown",
   "source": [
    "argmax will return the index position of the largest value"
   ],
   "metadata": {
    "collapsed": false
   }
  },
  {
   "cell_type": "code",
   "execution_count": 28,
   "outputs": [
    {
     "data": {
      "text/plain": "[3, 8, 1, 0, 4]"
     },
     "execution_count": 28,
     "metadata": {},
     "output_type": "execute_result"
    }
   ],
   "source": [
    "y_pred_classes = [np.argmax(element) for element in y_pred]\n",
    "y_pred_classes[:5]"
   ],
   "metadata": {
    "collapsed": false
   }
  },
  {
   "cell_type": "code",
   "execution_count": 29,
   "outputs": [
    {
     "data": {
      "text/plain": "array([3, 8, 8, 0, 6], dtype=uint8)"
     },
     "execution_count": 29,
     "metadata": {},
     "output_type": "execute_result"
    }
   ],
   "source": [
    "y_test[:5]"
   ],
   "metadata": {
    "collapsed": false
   }
  },
  {
   "cell_type": "code",
   "execution_count": 40,
   "outputs": [
    {
     "data": {
      "text/plain": "<Figure size 1500x200 with 1 Axes>",
      "image/png": "[encoded data removed]"
     },
     "metadata": {},
     "output_type": "display_data"
    }
   ],
   "source": [
    "y_test = y_test.reshape(-1,)\n",
    "plt_img(X_test, y_test, 5)"
   ],
   "metadata": {
    "collapsed": false
   }
  },
  {
   "cell_type": "code",
   "execution_count": 41,
   "outputs": [
    {
     "data": {
      "text/plain": "'frog'"
     },
     "execution_count": 41,
     "metadata": {},
     "output_type": "execute_result"
    }
   ],
   "source": [
    "classes[y_pred_classes[5]]"
   ],
   "metadata": {
    "collapsed": false
   }
  },
  {
   "cell_type": "markdown",
   "source": [
    "## Classification Report"
   ],
   "metadata": {
    "collapsed": false
   }
  },
  {
   "cell_type": "code",
   "execution_count": 42,
   "outputs": [
    {
     "name": "stdout",
     "output_type": "stream",
     "text": [
      "Classification Report: \n",
      "               precision    recall  f1-score   support\n",
      "\n",
      "           0       0.70      0.78      0.73      1000\n",
      "           1       0.85      0.81      0.83      1000\n",
      "           2       0.62      0.57      0.59      1000\n",
      "           3       0.59      0.43      0.50      1000\n",
      "           4       0.67      0.63      0.65      1000\n",
      "           5       0.57      0.70      0.63      1000\n",
      "           6       0.80      0.78      0.79      1000\n",
      "           7       0.68      0.80      0.73      1000\n",
      "           8       0.80      0.82      0.81      1000\n",
      "           9       0.81      0.77      0.79      1000\n",
      "\n",
      "    accuracy                           0.71     10000\n",
      "   macro avg       0.71      0.71      0.71     10000\n",
      "weighted avg       0.71      0.71      0.71     10000\n",
      "\n"
     ]
    }
   ],
   "source": [
    "print(\"Classification Report: \\n\", classification_report(y_test, y_pred_classes))"
   ],
   "metadata": {
    "collapsed": false
   }
  },
  {
   "cell_type": "code",
   "execution_count": null,
   "outputs": [],
   "source": [],
   "metadata": {
    "collapsed": false
   }
  }
 ],
 "metadata": {
  "kernelspec": {
   "display_name": "Python 3",
   "language": "python",
   "name": "python3"
  },
  "language_info": {
   "codemirror_mode": {
    "name": "ipython",
    "version": 2
   },
   "file_extension": ".py",
   "mimetype": "text/x-python",
   "name": "python",
   "nbconvert_exporter": "python",
   "pygments_lexer": "ipython2",
   "version": "2.7.6"
  }
 },
 "nbformat": 4,
 "nbformat_minor": 0
}

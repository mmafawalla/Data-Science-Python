{
 "cells": [
  {
   "cell_type": "markdown",
   "source": [
    "# Car Price Prediction"
   ],
   "metadata": {
    "collapsed": false
   }
  },
  {
   "cell_type": "markdown",
   "source": [
    "# Library Import"
   ],
   "metadata": {
    "collapsed": false
   }
  },
  {
   "cell_type": "code",
   "execution_count": 26,
   "outputs": [],
   "source": [
    "import pandas as pd\n",
    "import numpy as np\n",
    "import matplotlib.pyplot as plt\n",
    "import seaborn as sns"
   ],
   "metadata": {
    "collapsed": false
   }
  },
  {
   "cell_type": "markdown",
   "source": [
    "# Data"
   ],
   "metadata": {
    "collapsed": false
   }
  },
  {
   "cell_type": "code",
   "execution_count": 27,
   "outputs": [
    {
     "data": {
      "text/plain": "   Price  Levy Manufacturer    Model Prod. year   Category Leather interior  \\\n0  13328  1399        LEXUS   RX 450       2010       Jeep              Yes   \n1  16621  1018    CHEVROLET  Equinox       2011       Jeep               No   \n2   8467     -        HONDA      FIT       2006  Hatchback               No   \n3   3607   862         FORD   Escape       2011       Jeep              Yes   \n4  11726   446        HONDA      FIT       2014  Hatchback              Yes   \n\n  Fuel type Engine volume    Mileage Cylinders Gear box type Drive wheels  \\\n0    Hybrid           3.5  186005 km       6.0     Automatic          4x4   \n1    Petrol             3  192000 km       6.0     Tiptronic          4x4   \n2    Petrol           1.3  200000 km       4.0      Variator        Front   \n3    Hybrid           2.5  168966 km       4.0     Automatic          4x4   \n4    Petrol           1.3   91901 km       4.0     Automatic        Front   \n\n              Wheel   Color  Airbags  \n0        Left wheel  Silver     12.0  \n1        Left wheel   Black      8.0  \n2  Right-hand drive   Black      2.0  \n3        Left wheel   White      0.0  \n4        Left wheel  Silver      4.0  ",
      "text/html": "<div>\n<style scoped>\n    .dataframe tbody tr th:only-of-type {\n        vertical-align: middle;\n    }\n\n    .dataframe tbody tr th {\n        vertical-align: top;\n    }\n\n    .dataframe thead th {\n        text-align: right;\n    }\n</style>\n<table border=\"1\" class=\"dataframe\">\n  <thead>\n    <tr style=\"text-align: right;\">\n      <th></th>\n      <th>Price</th>\n      <th>Levy</th>\n      <th>Manufacturer</th>\n      <th>Model</th>\n      <th>Prod. year</th>\n      <th>Category</th>\n      <th>Leather interior</th>\n      <th>Fuel type</th>\n      <th>Engine volume</th>\n      <th>Mileage</th>\n      <th>Cylinders</th>\n      <th>Gear box type</th>\n      <th>Drive wheels</th>\n      <th>Wheel</th>\n      <th>Color</th>\n      <th>Airbags</th>\n    </tr>\n  </thead>\n  <tbody>\n    <tr>\n      <th>0</th>\n      <td>13328</td>\n      <td>1399</td>\n      <td>LEXUS</td>\n      <td>RX 450</td>\n      <td>2010</td>\n      <td>Jeep</td>\n      <td>Yes</td>\n      <td>Hybrid</td>\n      <td>3.5</td>\n      <td>186005 km</td>\n      <td>6.0</td>\n      <td>Automatic</td>\n      <td>4x4</td>\n      <td>Left wheel</td>\n      <td>Silver</td>\n      <td>12.0</td>\n    </tr>\n    <tr>\n      <th>1</th>\n      <td>16621</td>\n      <td>1018</td>\n      <td>CHEVROLET</td>\n      <td>Equinox</td>\n      <td>2011</td>\n      <td>Jeep</td>\n      <td>No</td>\n      <td>Petrol</td>\n      <td>3</td>\n      <td>192000 km</td>\n      <td>6.0</td>\n      <td>Tiptronic</td>\n      <td>4x4</td>\n      <td>Left wheel</td>\n      <td>Black</td>\n      <td>8.0</td>\n    </tr>\n    <tr>\n      <th>2</th>\n      <td>8467</td>\n      <td>-</td>\n      <td>HONDA</td>\n      <td>FIT</td>\n      <td>2006</td>\n      <td>Hatchback</td>\n      <td>No</td>\n      <td>Petrol</td>\n      <td>1.3</td>\n      <td>200000 km</td>\n      <td>4.0</td>\n      <td>Variator</td>\n      <td>Front</td>\n      <td>Right-hand drive</td>\n      <td>Black</td>\n      <td>2.0</td>\n    </tr>\n    <tr>\n      <th>3</th>\n      <td>3607</td>\n      <td>862</td>\n      <td>FORD</td>\n      <td>Escape</td>\n      <td>2011</td>\n      <td>Jeep</td>\n      <td>Yes</td>\n      <td>Hybrid</td>\n      <td>2.5</td>\n      <td>168966 km</td>\n      <td>4.0</td>\n      <td>Automatic</td>\n      <td>4x4</td>\n      <td>Left wheel</td>\n      <td>White</td>\n      <td>0.0</td>\n    </tr>\n    <tr>\n      <th>4</th>\n      <td>11726</td>\n      <td>446</td>\n      <td>HONDA</td>\n      <td>FIT</td>\n      <td>2014</td>\n      <td>Hatchback</td>\n      <td>Yes</td>\n      <td>Petrol</td>\n      <td>1.3</td>\n      <td>91901 km</td>\n      <td>4.0</td>\n      <td>Automatic</td>\n      <td>Front</td>\n      <td>Left wheel</td>\n      <td>Silver</td>\n      <td>4.0</td>\n    </tr>\n  </tbody>\n</table>\n</div>"
     },
     "execution_count": 27,
     "metadata": {},
     "output_type": "execute_result"
    }
   ],
   "source": [
    "data = pd.read_csv('../../Data/car.csv')\n",
    "data.drop(['ID', 'Doors'], axis=1, inplace=True)\n",
    "data.head()"
   ],
   "metadata": {
    "collapsed": false
   }
  },
  {
   "cell_type": "code",
   "execution_count": 28,
   "outputs": [
    {
     "data": {
      "text/plain": "Price               0\nLevy                0\nManufacturer        0\nModel               0\nProd. year          0\nCategory            0\nLeather interior    0\nFuel type           0\nEngine volume       0\nMileage             0\nCylinders           0\nGear box type       0\nDrive wheels        0\nWheel               0\nColor               0\nAirbags             0\ndtype: int64"
     },
     "execution_count": 28,
     "metadata": {},
     "output_type": "execute_result"
    }
   ],
   "source": [
    "data.dropna(inplace=True)\n",
    "data.isnull().sum()"
   ],
   "metadata": {
    "collapsed": false
   }
  },
  {
   "cell_type": "code",
   "execution_count": 29,
   "outputs": [
    {
     "data": {
      "text/plain": "(11618, 16)"
     },
     "execution_count": 29,
     "metadata": {},
     "output_type": "execute_result"
    }
   ],
   "source": [
    "data = data[~(data.Levy=='-')]\n",
    "data = data[~(data['Engine volume']=='0')]\n",
    "data = data[~(data['Airbags']==0)]\n",
    "data.shape"
   ],
   "metadata": {
    "collapsed": false
   }
  },
  {
   "cell_type": "code",
   "execution_count": null,
   "outputs": [],
   "source": [],
   "metadata": {
    "collapsed": false
   }
  }
 ],
 "metadata": {
  "kernelspec": {
   "display_name": "Python 3",
   "language": "python",
   "name": "python3"
  },
  "language_info": {
   "codemirror_mode": {
    "name": "ipython",
    "version": 2
   },
   "file_extension": ".py",
   "mimetype": "text/x-python",
   "name": "python",
   "nbconvert_exporter": "python",
   "pygments_lexer": "ipython2",
   "version": "2.7.6"
  }
 },
 "nbformat": 4,
 "nbformat_minor": 0
}
